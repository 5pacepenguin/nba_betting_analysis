{
 "cells": [
  {
   "cell_type": "code",
   "execution_count": 7,
   "id": "71f39788",
   "metadata": {},
   "outputs": [],
   "source": [
    "import pandas as pd\n",
    "import numpy as np\n",
    "import matplotlib.pyplot as plt\n",
    "import requests\n",
    "from datetime import datetime, timedelta"
   ]
  },
  {
   "cell_type": "code",
   "execution_count": 8,
   "id": "520044c4",
   "metadata": {},
   "outputs": [],
   "source": [
    "from nba_api.stats.static import teams\n",
    "nba_teams = teams.get_teams()\n",
    "team_names = [team['full_name'] for team in nba_teams]\n",
    "team_names.sort()\n",
    "team_ids = [team['id'] for team in nba_teams]"
   ]
  },
  {
   "cell_type": "code",
   "execution_count": 34,
   "id": "1f94b4b7",
   "metadata": {},
   "outputs": [],
   "source": [
    "games = pd.read_pickle('../data/pkl/sbr_current_betting_data_2023-03-09.pkl')"
   ]
  },
  {
   "cell_type": "code",
   "execution_count": 74,
   "id": "292de1a1",
   "metadata": {},
   "outputs": [],
   "source": [
    "df=pd.DataFrame()"
   ]
  },
  {
   "cell_type": "code",
   "execution_count": 72,
   "id": "a78e6f94",
   "metadata": {},
   "outputs": [
    {
     "data": {
      "text/html": [
       "<div>\n",
       "<style scoped>\n",
       "    .dataframe tbody tr th:only-of-type {\n",
       "        vertical-align: middle;\n",
       "    }\n",
       "\n",
       "    .dataframe tbody tr th {\n",
       "        vertical-align: top;\n",
       "    }\n",
       "\n",
       "    .dataframe thead th {\n",
       "        text-align: right;\n",
       "    }\n",
       "</style>\n",
       "<table border=\"1\" class=\"dataframe\">\n",
       "  <thead>\n",
       "    <tr style=\"text-align: right;\">\n",
       "      <th></th>\n",
       "      <th>Betmgm_Spread</th>\n",
       "      <th>Betmgm_Odds</th>\n",
       "    </tr>\n",
       "  </thead>\n",
       "  <tbody>\n",
       "    <tr>\n",
       "      <th>0</th>\n",
       "      <td>-3.5</td>\n",
       "      <td>-110</td>\n",
       "    </tr>\n",
       "    <tr>\n",
       "      <th>1</th>\n",
       "      <td>+3.5</td>\n",
       "      <td>-110</td>\n",
       "    </tr>\n",
       "    <tr>\n",
       "      <th>2</th>\n",
       "      <td>+4.5</td>\n",
       "      <td>-110</td>\n",
       "    </tr>\n",
       "    <tr>\n",
       "      <th>3</th>\n",
       "      <td>-4.5</td>\n",
       "      <td>-110</td>\n",
       "    </tr>\n",
       "    <tr>\n",
       "      <th>4</th>\n",
       "      <td>+9.5</td>\n",
       "      <td>-110</td>\n",
       "    </tr>\n",
       "    <tr>\n",
       "      <th>5</th>\n",
       "      <td>-9.5</td>\n",
       "      <td>-110</td>\n",
       "    </tr>\n",
       "    <tr>\n",
       "      <th>6</th>\n",
       "      <td>-2.5</td>\n",
       "      <td>-110</td>\n",
       "    </tr>\n",
       "    <tr>\n",
       "      <th>7</th>\n",
       "      <td>+2.5</td>\n",
       "      <td>-110</td>\n",
       "    </tr>\n",
       "    <tr>\n",
       "      <th>8</th>\n",
       "      <td>+9.5</td>\n",
       "      <td>-110</td>\n",
       "    </tr>\n",
       "    <tr>\n",
       "      <th>9</th>\n",
       "      <td>-9.5</td>\n",
       "      <td>-110</td>\n",
       "    </tr>\n",
       "    <tr>\n",
       "      <th>10</th>\n",
       "      <td>+2.5</td>\n",
       "      <td>-115</td>\n",
       "    </tr>\n",
       "    <tr>\n",
       "      <th>11</th>\n",
       "      <td>-2.5</td>\n",
       "      <td>-105</td>\n",
       "    </tr>\n",
       "  </tbody>\n",
       "</table>\n",
       "</div>"
      ],
      "text/plain": [
       "   Betmgm_Spread Betmgm_Odds\n",
       "0           -3.5        -110\n",
       "1           +3.5        -110\n",
       "2           +4.5        -110\n",
       "3           -4.5        -110\n",
       "4           +9.5        -110\n",
       "5           -9.5        -110\n",
       "6           -2.5        -110\n",
       "7           +2.5        -110\n",
       "8           +9.5        -110\n",
       "9           -9.5        -110\n",
       "10          +2.5        -115\n",
       "11          -2.5        -105"
      ]
     },
     "execution_count": 72,
     "metadata": {},
     "output_type": "execute_result"
    }
   ],
   "source": [
    "games[['Betmgm_Spread', 'Betmgm_Odds']]"
   ]
  },
  {
   "cell_type": "code",
   "execution_count": 53,
   "id": "2b31c8ed",
   "metadata": {},
   "outputs": [],
   "source": [
    "checkboxes = [\n",
    "        'Betmgm',\n",
    "        'Draft_Kings',\n",
    "        'Fanduel',\n",
    "        'Caesars',\n",
    "        'Pointsbet',\n",
    "        'Wynn',\n",
    "        'Betrivers'\n",
    "    ]"
   ]
  },
  {
   "cell_type": "code",
   "execution_count": 41,
   "id": "b20158ae",
   "metadata": {},
   "outputs": [],
   "source": [
    "import streamlit as st"
   ]
  },
  {
   "cell_type": "code",
   "execution_count": 47,
   "id": "63a89e49",
   "metadata": {},
   "outputs": [],
   "source": [
    "checkbox_values = {}\n",
    "for label in checkboxes:\n",
    "    checkbox_values[label] = st.checkbox(label, value=True)"
   ]
  },
  {
   "cell_type": "code",
   "execution_count": null,
   "id": "e25f5daa",
   "metadata": {},
   "outputs": [],
   "source": [
    "def display_dataframe(checkbox_values, df):\n",
    "        # Hide the columns that are not selected\n",
    "        columns_to_drop = [label if not checkbox_values[label]]\n",
    "        df_filtered = df.drop(columns_to_drop, axis=1)\n",
    "\n",
    "        # Display the data frame with the selected columns using streamlit\n",
    "        st.write(df_filtered)"
   ]
  },
  {
   "cell_type": "code",
   "execution_count": 64,
   "id": "ae5b8dc4",
   "metadata": {},
   "outputs": [],
   "source": [
    "checkbox_values = {\n",
    "        'Betmgm': 'Betmgm',\n",
    "        'Draft_Kings': 'Draft_Kings',\n",
    "        'Fanduel': 'Fanduel',\n",
    "        'Caesars': 'Caesars',\n",
    "        'Pointsbet': 'Pointsbet',\n",
    "        'Wynn': 'Wynn',\n",
    "        'Betrivers': 'Betrivers'\n",
    "    }"
   ]
  },
  {
   "cell_type": "code",
   "execution_count": 63,
   "id": "dea5ed26",
   "metadata": {},
   "outputs": [
    {
     "data": {
      "text/plain": [
       "['Betrivers']"
      ]
     },
     "execution_count": 63,
     "metadata": {},
     "output_type": "execute_result"
    }
   ],
   "source": [
    "[label for label in checkboxes if not checkbox_values[label]]"
   ]
  },
  {
   "cell_type": "markdown",
   "id": "57bb6e9a",
   "metadata": {},
   "source": [
    "# Basic boxscores"
   ]
  },
  {
   "cell_type": "code",
   "execution_count": 27,
   "id": "08398bd9",
   "metadata": {},
   "outputs": [],
   "source": [
    "from nba_api.stats.static import teams\n",
    "from nba_api.stats.endpoints import scoreboard\n",
    "\n",
    "# Get yesterday's date\n",
    "from datetime import datetime, timedelta\n",
    "yesterday = datetime.now() - timedelta(days=1)\n",
    "yesterday_str = yesterday.strftime('%m/%d/%Y')\n",
    "\n",
    "scoreboard_ = scoreboard.Scoreboard(game_date=yesterday_str, league_id='00', day_offset=0)\n",
    "games = scoreboard_.game_header.get_data_frame()\n",
    "if not games.empty:\n",
    "    game_ids = list(games['GAME_ID'])\n",
    "    print(team['full_name'], game_ids)"
   ]
  },
  {
   "cell_type": "markdown",
   "id": "1b66b518",
   "metadata": {},
   "source": [
    "# Advanced boxscores"
   ]
  },
  {
   "cell_type": "markdown",
   "id": "4b811a0e",
   "metadata": {},
   "source": [
    "The command above/below gets the advanced boxscore from a given game id\n",
    "\n",
    "boxscores_advanced.get_data_frames()[0] returns the advanced boxscore broken up per player\n",
    "\n",
    "boxscores_advanced.get_data_frames()[1] returns the advanced boxscore broken up per team"
   ]
  },
  {
   "cell_type": "code",
   "execution_count": 25,
   "id": "b6c0f578",
   "metadata": {},
   "outputs": [
    {
     "name": "stdout",
     "output_type": "stream",
     "text": [
      "CPU times: user 155 ms, sys: 23.6 ms, total: 179 ms\n",
      "Wall time: 2.69 s\n"
     ]
    }
   ],
   "source": [
    "from nba_api.stats.endpoints import boxscoreadvancedv2\n",
    "\n",
    "boxscores_advanced_player = None\n",
    "boxscores_advanced_team = None\n",
    "\n",
    "for game_id in game_ids:\n",
    "    if boxscores_advanced_team is None:\n",
    "        gamefinder = boxscoreadvancedv2.BoxScoreAdvancedV2(game_id=game_id)\n",
    "        boxscores_advanced_team = gamefinder.get_data_frames()[1]\n",
    "        boxscores_advanced_player = gamefinder.get_data_frames()[0]\n",
    "    else:\n",
    "        gamefinder = boxscoreadvancedv2.BoxScoreAdvancedV2(game_id=game_id)\n",
    "        boxscores_advanced_team = pd.concat([boxscores_advanced_team, gamefinder.get_data_frames()[1]])\n",
    "        boxscores_advanced_player = pd.concat([boxscores_advanced_player, gamefinder.get_data_frames()[0]])"
   ]
  },
  {
   "cell_type": "code",
   "execution_count": 29,
   "id": "0a96ba11",
   "metadata": {},
   "outputs": [
    {
     "data": {
      "text/plain": [
       "Index(['GAME_ID', 'TEAM_ID', 'TEAM_NAME', 'TEAM_ABBREVIATION', 'TEAM_CITY',\n",
       "       'MIN', 'E_OFF_RATING', 'OFF_RATING', 'E_DEF_RATING', 'DEF_RATING',\n",
       "       'E_NET_RATING', 'NET_RATING', 'AST_PCT', 'AST_TOV', 'AST_RATIO',\n",
       "       'OREB_PCT', 'DREB_PCT', 'REB_PCT', 'E_TM_TOV_PCT', 'TM_TOV_PCT',\n",
       "       'EFG_PCT', 'TS_PCT', 'USG_PCT', 'E_USG_PCT', 'E_PACE', 'PACE',\n",
       "       'PACE_PER40', 'POSS', 'PIE'],\n",
       "      dtype='object')"
      ]
     },
     "execution_count": 29,
     "metadata": {},
     "output_type": "execute_result"
    }
   ],
   "source": [
    "boxscores_advanced_team.columns"
   ]
  },
  {
   "cell_type": "code",
   "execution_count": 77,
   "id": "ff31338a",
   "metadata": {},
   "outputs": [],
   "source": [
    "# boxscores_advanced_team_yesterday.to_pickle('boxscores_advanced_team_part2.pkl')"
   ]
  },
  {
   "cell_type": "code",
   "execution_count": 78,
   "id": "0ce06ff5",
   "metadata": {},
   "outputs": [],
   "source": [
    "# boxscores_advanced_player_yesterday.to_pickle('boxscores_advanced_player_part2.pkl')"
   ]
  },
  {
   "cell_type": "code",
   "execution_count": 30,
   "id": "dcd75b3d",
   "metadata": {},
   "outputs": [],
   "source": [
    "df = pd.read_pickle('../data/pkl/raw_games_5yrs.pkl')"
   ]
  },
  {
   "cell_type": "code",
   "execution_count": 32,
   "id": "ca172567",
   "metadata": {},
   "outputs": [
    {
     "data": {
      "text/plain": [
       "0     2023-03-04\n",
       "1     2023-03-03\n",
       "2     2023-02-28\n",
       "3     2023-02-26\n",
       "4     2023-02-24\n",
       "         ...    \n",
       "426   2018-03-15\n",
       "427   2018-03-13\n",
       "428   2018-03-10\n",
       "429   2018-03-08\n",
       "430   2018-03-06\n",
       "Name: GAME_DATE, Length: 13700, dtype: datetime64[ns]"
      ]
     },
     "execution_count": 32,
     "metadata": {},
     "output_type": "execute_result"
    }
   ],
   "source": [
    "df['GAME_DATE']"
   ]
  }
 ],
 "metadata": {
  "kernelspec": {
   "display_name": "Python 3 (ipykernel)",
   "language": "python",
   "name": "python3"
  },
  "language_info": {
   "codemirror_mode": {
    "name": "ipython",
    "version": 3
   },
   "file_extension": ".py",
   "mimetype": "text/x-python",
   "name": "python",
   "nbconvert_exporter": "python",
   "pygments_lexer": "ipython3",
   "version": "3.10.6"
  },
  "toc": {
   "base_numbering": 1,
   "nav_menu": {},
   "number_sections": true,
   "sideBar": true,
   "skip_h1_title": false,
   "title_cell": "Table of Contents",
   "title_sidebar": "Contents",
   "toc_cell": false,
   "toc_position": {},
   "toc_section_display": true,
   "toc_window_display": false
  }
 },
 "nbformat": 4,
 "nbformat_minor": 5
}
