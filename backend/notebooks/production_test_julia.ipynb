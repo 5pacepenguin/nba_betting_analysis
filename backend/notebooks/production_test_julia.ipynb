{
 "cells": [
  {
   "cell_type": "code",
   "execution_count": 7,
   "id": "71f39788",
   "metadata": {},
   "outputs": [],
   "source": [
    "import pandas as pd\n",
    "import numpy as np\n",
    "import matplotlib.pyplot as plt\n",
    "import requests\n",
    "from datetime import datetime, timedelta"
   ]
  },
  {
   "cell_type": "code",
   "execution_count": 8,
   "id": "520044c4",
   "metadata": {},
   "outputs": [],
   "source": [
    "from nba_api.stats.static import teams\n",
    "nba_teams = teams.get_teams()\n",
    "team_names = [team['full_name'] for team in nba_teams]\n",
    "team_names.sort()\n",
    "team_ids = [team['id'] for team in nba_teams]"
   ]
  },
  {
   "cell_type": "markdown",
   "id": "57bb6e9a",
   "metadata": {},
   "source": [
    "# Basic boxscores"
   ]
  },
  {
   "cell_type": "code",
   "execution_count": 27,
   "id": "057c1541",
   "metadata": {},
   "outputs": [],
   "source": [
    "from nba_api.stats.static import teams\n",
    "from nba_api.stats.endpoints import scoreboard\n",
    "\n",
    "# Get all NBA teams\n",
    "nba_teams = teams.get_teams()\n",
    "\n",
    "# Get yesterday's date\n",
    "from datetime import datetime, timedelta\n",
    "yesterday = datetime.now() - timedelta(days=1)\n",
    "yesterday_str = yesterday.strftime('%m/%d/%Y')\n",
    "\n",
    "scoreboard_ = scoreboard.Scoreboard(game_date=yesterday_str, league_id='00', day_offset=0)\n",
    "games = scoreboard_.game_header.get_data_frame()\n",
    "if not games.empty:\n",
    "    game_ids = list(games['GAME_ID'])\n",
    "    print(team['full_name'], game_ids)"
   ]
  },
  {
   "cell_type": "markdown",
   "id": "1b66b518",
   "metadata": {},
   "source": [
    "# Advanced boxscores"
   ]
  },
  {
   "cell_type": "markdown",
   "id": "4b811a0e",
   "metadata": {},
   "source": [
    "The command above/below gets the advanced boxscore from a given game id\n",
    "\n",
    "boxscores_advanced.get_data_frames()[0] returns the advanced boxscore broken up per player\n",
    "\n",
    "boxscores_advanced.get_data_frames()[1] returns the advanced boxscore broken up per team"
   ]
  },
  {
   "cell_type": "code",
   "execution_count": 25,
   "id": "b6c0f578",
   "metadata": {},
   "outputs": [
    {
     "name": "stdout",
     "output_type": "stream",
     "text": [
      "CPU times: user 155 ms, sys: 23.6 ms, total: 179 ms\n",
      "Wall time: 2.69 s\n"
     ]
    }
   ],
   "source": [
    "from nba_api.stats.endpoints import boxscoreadvancedv2\n",
    "\n",
    "boxscores_advanced_player = None\n",
    "boxscores_advanced_team = None\n",
    "\n",
    "for game_id in game_ids:\n",
    "    if boxscores_advanced_team is None:\n",
    "        gamefinder = boxscoreadvancedv2.BoxScoreAdvancedV2(game_id=game_id)\n",
    "        boxscores_advanced_team = gamefinder.get_data_frames()[1]\n",
    "        boxscores_advanced_player = gamefinder.get_data_frames()[0]\n",
    "    else:\n",
    "        gamefinder = boxscoreadvancedv2.BoxScoreAdvancedV2(game_id=game_id)\n",
    "        boxscores_advanced_team = pd.concat([boxscores_advanced_team, gamefinder.get_data_frames()[1]])\n",
    "        boxscores_advanced_player = pd.concat([boxscores_advanced_player, gamefinder.get_data_frames()[0]])"
   ]
  },
  {
   "cell_type": "code",
   "execution_count": 29,
   "id": "23ed0658",
   "metadata": {},
   "outputs": [
    {
     "data": {
      "text/plain": [
       "Index(['GAME_ID', 'TEAM_ID', 'TEAM_NAME', 'TEAM_ABBREVIATION', 'TEAM_CITY',\n",
       "       'MIN', 'E_OFF_RATING', 'OFF_RATING', 'E_DEF_RATING', 'DEF_RATING',\n",
       "       'E_NET_RATING', 'NET_RATING', 'AST_PCT', 'AST_TOV', 'AST_RATIO',\n",
       "       'OREB_PCT', 'DREB_PCT', 'REB_PCT', 'E_TM_TOV_PCT', 'TM_TOV_PCT',\n",
       "       'EFG_PCT', 'TS_PCT', 'USG_PCT', 'E_USG_PCT', 'E_PACE', 'PACE',\n",
       "       'PACE_PER40', 'POSS', 'PIE'],\n",
       "      dtype='object')"
      ]
     },
     "execution_count": 29,
     "metadata": {},
     "output_type": "execute_result"
    }
   ],
   "source": [
    "boxscores_advanced_team.columns"
   ]
  },
  {
   "cell_type": "code",
   "execution_count": 77,
   "id": "ff31338a",
   "metadata": {},
   "outputs": [],
   "source": [
    "# boxscores_advanced_team_yesterday.to_pickle('boxscores_advanced_team_part2.pkl')"
   ]
  },
  {
   "cell_type": "code",
   "execution_count": 78,
   "id": "0ce06ff5",
   "metadata": {},
   "outputs": [],
   "source": [
    "# boxscores_advanced_player_yesterday.to_pickle('boxscores_advanced_player_part2.pkl')"
   ]
  },
  {
   "cell_type": "code",
   "execution_count": 30,
   "id": "5bfd38d0",
   "metadata": {},
   "outputs": [],
   "source": [
    "df = pd.read_pickle('../data/pkl/raw_games_5yrs.pkl')"
   ]
  },
  {
   "cell_type": "code",
   "execution_count": 32,
   "id": "0fb84fd1",
   "metadata": {},
   "outputs": [
    {
     "data": {
      "text/plain": [
       "0     2023-03-04\n",
       "1     2023-03-03\n",
       "2     2023-02-28\n",
       "3     2023-02-26\n",
       "4     2023-02-24\n",
       "         ...    \n",
       "426   2018-03-15\n",
       "427   2018-03-13\n",
       "428   2018-03-10\n",
       "429   2018-03-08\n",
       "430   2018-03-06\n",
       "Name: GAME_DATE, Length: 13700, dtype: datetime64[ns]"
      ]
     },
     "execution_count": 32,
     "metadata": {},
     "output_type": "execute_result"
    }
   ],
   "source": [
    "df['GAME_DATE']"
   ]
  }
 ],
 "metadata": {
  "kernelspec": {
   "display_name": "Python 3 (ipykernel)",
   "language": "python",
   "name": "python3"
  },
  "language_info": {
   "codemirror_mode": {
    "name": "ipython",
    "version": 3
   },
   "file_extension": ".py",
   "mimetype": "text/x-python",
   "name": "python",
   "nbconvert_exporter": "python",
   "pygments_lexer": "ipython3",
   "version": "3.10.6"
  },
  "toc": {
   "base_numbering": 1,
   "nav_menu": {},
   "number_sections": true,
   "sideBar": true,
   "skip_h1_title": false,
   "title_cell": "Table of Contents",
   "title_sidebar": "Contents",
   "toc_cell": false,
   "toc_position": {},
   "toc_section_display": true,
   "toc_window_display": false
  }
 },
 "nbformat": 4,
 "nbformat_minor": 5
}
