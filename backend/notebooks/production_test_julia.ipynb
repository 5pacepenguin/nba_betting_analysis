{
 "cells": [
  {
   "cell_type": "code",
   "execution_count": 2,
   "id": "e91b5eba",
   "metadata": {},
   "outputs": [
    {
     "name": "stdout",
     "output_type": "stream",
     "text": [
      "/home/alec/code/alecmatt5/nba_betting_analysis/nba_betting_analysis/backend/notebooks\r\n"
     ]
    }
   ],
   "source": [
    "!pwd"
   ]
  },
  {
   "cell_type": "code",
   "execution_count": 4,
   "id": "71f39788",
   "metadata": {},
   "outputs": [],
   "source": [
    "import pandas as pd\n",
    "import numpy as np\n",
    "import matplotlib.pyplot as plt\n",
    "import requests\n",
    "from datetime import datetime, timedelta\n",
    "\n",
    "import os\n",
    "os.chdir('/home/alec/code/alecmatt5/nba_betting_analysis/nba_betting_analysis/backend/py_files')\n",
    "from today_games_preprocessor import preprocess_advanced, get_basic_boxscores, roll\n",
    "os.chdir('/home/alec/code/alecmatt5/nba_betting_analysis/nba_betting_analysis/backend')\n",
    "\n",
    "from nba_api.stats.endpoints import scoreboard\n",
    "from nba_api.stats.static import teams"
   ]
  },
  {
   "cell_type": "code",
   "execution_count": 5,
   "id": "87830f4f",
   "metadata": {},
   "outputs": [
    {
     "name": "stderr",
     "output_type": "stream",
     "text": [
      "/home/alec/code/alecmatt5/nba_betting_analysis/nba_betting_analysis/backend/py_files/today_games_preprocessor.py:129: SettingWithCopyWarning: \n",
      "A value is trying to be set on a copy of a slice from a DataFrame\n",
      "\n",
      "See the caveats in the documentation: https://pandas.pydata.org/pandas-docs/stable/user_guide/indexing.html#returning-a-view-versus-a-copy\n",
      "  df1.rename(columns={'game_id': 'GAME_ID', 'home_team': 'TEAM_ABBREVIATION', 'home_team_id': 'TEAM_ID'}, inplace=True)\n",
      "/home/alec/code/alecmatt5/nba_betting_analysis/nba_betting_analysis/backend/py_files/today_games_preprocessor.py:130: SettingWithCopyWarning: \n",
      "A value is trying to be set on a copy of a slice from a DataFrame.\n",
      "Try using .loc[row_indexer,col_indexer] = value instead\n",
      "\n",
      "See the caveats in the documentation: https://pandas.pydata.org/pandas-docs/stable/user_guide/indexing.html#returning-a-view-versus-a-copy\n",
      "  df1['GAME_DATE'] = today\n",
      "/home/alec/code/alecmatt5/nba_betting_analysis/nba_betting_analysis/backend/py_files/today_games_preprocessor.py:134: SettingWithCopyWarning: \n",
      "A value is trying to be set on a copy of a slice from a DataFrame\n",
      "\n",
      "See the caveats in the documentation: https://pandas.pydata.org/pandas-docs/stable/user_guide/indexing.html#returning-a-view-versus-a-copy\n",
      "  df2.rename(columns={'game_id': 'GAME_ID', 'away_team': 'TEAM_ABBREVIATION', 'away_team_id': 'TEAM_ID'}, inplace=True)\n",
      "/home/alec/code/alecmatt5/nba_betting_analysis/nba_betting_analysis/backend/py_files/today_games_preprocessor.py:135: SettingWithCopyWarning: \n",
      "A value is trying to be set on a copy of a slice from a DataFrame.\n",
      "Try using .loc[row_indexer,col_indexer] = value instead\n",
      "\n",
      "See the caveats in the documentation: https://pandas.pydata.org/pandas-docs/stable/user_guide/indexing.html#returning-a-view-versus-a-copy\n",
      "  df2['GAME_DATE'] = today\n"
     ]
    },
    {
     "ename": "KeyError",
     "evalue": "'GAME_DATE'",
     "output_type": "error",
     "traceback": [
      "\u001b[0;31m---------------------------------------------------------------------------\u001b[0m",
      "\u001b[0;31mKeyError\u001b[0m                                  Traceback (most recent call last)",
      "Cell \u001b[0;32mIn[5], line 1\u001b[0m\n\u001b[0;32m----> 1\u001b[0m preproc_part1, X_features \u001b[38;5;241m=\u001b[39m \u001b[43mpreprocess_advanced\u001b[49m\u001b[43m(\u001b[49m\u001b[38;5;124;43m'\u001b[39;49m\u001b[38;5;124;43mboxscores_advanced_team_all.pkl\u001b[39;49m\u001b[38;5;124;43m'\u001b[39;49m\u001b[43m,\u001b[49m\n\u001b[1;32m      2\u001b[0m \u001b[43m                                        \u001b[49m\u001b[43mroll_methods\u001b[49m\u001b[38;5;241;43m=\u001b[39;49m\u001b[43m[\u001b[49m\u001b[38;5;124;43m'\u001b[39;49m\u001b[38;5;124;43mmean\u001b[39;49m\u001b[38;5;124;43m'\u001b[39;49m\u001b[43m]\u001b[49m\u001b[43m,\u001b[49m\n\u001b[1;32m      3\u001b[0m \u001b[43m                                        \u001b[49m\u001b[43mohe\u001b[49m\u001b[38;5;241;43m=\u001b[39;49m\u001b[38;5;28;43;01mTrue\u001b[39;49;00m\u001b[43m,\u001b[49m\n\u001b[1;32m      4\u001b[0m \u001b[43m                                        \u001b[49m\u001b[43mscaled\u001b[49m\u001b[38;5;241;43m=\u001b[39;49m\u001b[38;5;28;43;01mFalse\u001b[39;49;00m\u001b[43m)\u001b[49m\n",
      "File \u001b[0;32m~/code/alecmatt5/nba_betting_analysis/nba_betting_analysis/backend/py_files/today_games_preprocessor.py:186\u001b[0m, in \u001b[0;36mpreprocess_advanced\u001b[0;34m(adv_pickle_filename, roll_methods, ohe, scaled)\u001b[0m\n\u001b[1;32m    183\u001b[0m advanced \u001b[38;5;241m=\u001b[39m advanced[\u001b[38;5;241m~\u001b[39madvanced[\u001b[38;5;124m'\u001b[39m\u001b[38;5;124mGAME_ID\u001b[39m\u001b[38;5;124m'\u001b[39m]\u001b[38;5;241m.\u001b[39misin(unique_values)]\n\u001b[1;32m    184\u001b[0m advanced \u001b[38;5;241m=\u001b[39m advanced\u001b[38;5;241m.\u001b[39mreset_index(drop\u001b[38;5;241m=\u001b[39m\u001b[38;5;28;01mTrue\u001b[39;00m)\n\u001b[0;32m--> 186\u001b[0m advanced_desc \u001b[38;5;241m=\u001b[39m \u001b[43madvanced\u001b[49m\u001b[38;5;241;43m.\u001b[39;49m\u001b[43msort_values\u001b[49m\u001b[43m(\u001b[49m\u001b[43mby\u001b[49m\u001b[38;5;241;43m=\u001b[39;49m\u001b[43m[\u001b[49m\u001b[38;5;124;43m'\u001b[39;49m\u001b[38;5;124;43mGAME_DATE\u001b[39;49m\u001b[38;5;124;43m'\u001b[39;49m\u001b[43m]\u001b[49m\u001b[43m,\u001b[49m\u001b[43m \u001b[49m\u001b[43mascending\u001b[49m\u001b[38;5;241;43m=\u001b[39;49m\u001b[38;5;28;43;01mTrue\u001b[39;49;00m\u001b[43m)\u001b[49m\u001b[38;5;241m.\u001b[39mcopy()\n\u001b[1;32m    188\u001b[0m \u001b[38;5;66;03m#define features to engineer\u001b[39;00m\n\u001b[1;32m    189\u001b[0m non_eng_features \u001b[38;5;241m=\u001b[39m [\u001b[38;5;124m'\u001b[39m\u001b[38;5;124mTEAM_ABBREVIATION\u001b[39m\u001b[38;5;124m'\u001b[39m, \u001b[38;5;124m'\u001b[39m\u001b[38;5;124mGAME_ID\u001b[39m\u001b[38;5;124m'\u001b[39m, \u001b[38;5;124m'\u001b[39m\u001b[38;5;124mTEAM_ID\u001b[39m\u001b[38;5;124m'\u001b[39m, \u001b[38;5;124m'\u001b[39m\u001b[38;5;124mTEAM_NAME\u001b[39m\u001b[38;5;124m'\u001b[39m,\n\u001b[1;32m    190\u001b[0m                     \u001b[38;5;124m'\u001b[39m\u001b[38;5;124mGAME_DATE\u001b[39m\u001b[38;5;124m'\u001b[39m, \u001b[38;5;124m'\u001b[39m\u001b[38;5;124mHOME_TEAM\u001b[39m\u001b[38;5;124m'\u001b[39m, \u001b[38;5;124m'\u001b[39m\u001b[38;5;124mPLUS_MINUS\u001b[39m\u001b[38;5;124m'\u001b[39m]\n",
      "File \u001b[0;32m~/.pyenv/versions/nba_betting_analysis/lib/python3.10/site-packages/pandas/util/_decorators.py:331\u001b[0m, in \u001b[0;36mdeprecate_nonkeyword_arguments.<locals>.decorate.<locals>.wrapper\u001b[0;34m(*args, **kwargs)\u001b[0m\n\u001b[1;32m    325\u001b[0m \u001b[38;5;28;01mif\u001b[39;00m \u001b[38;5;28mlen\u001b[39m(args) \u001b[38;5;241m>\u001b[39m num_allow_args:\n\u001b[1;32m    326\u001b[0m     warnings\u001b[38;5;241m.\u001b[39mwarn(\n\u001b[1;32m    327\u001b[0m         msg\u001b[38;5;241m.\u001b[39mformat(arguments\u001b[38;5;241m=\u001b[39m_format_argument_list(allow_args)),\n\u001b[1;32m    328\u001b[0m         \u001b[38;5;167;01mFutureWarning\u001b[39;00m,\n\u001b[1;32m    329\u001b[0m         stacklevel\u001b[38;5;241m=\u001b[39mfind_stack_level(),\n\u001b[1;32m    330\u001b[0m     )\n\u001b[0;32m--> 331\u001b[0m \u001b[38;5;28;01mreturn\u001b[39;00m \u001b[43mfunc\u001b[49m\u001b[43m(\u001b[49m\u001b[38;5;241;43m*\u001b[39;49m\u001b[43margs\u001b[49m\u001b[43m,\u001b[49m\u001b[43m \u001b[49m\u001b[38;5;241;43m*\u001b[39;49m\u001b[38;5;241;43m*\u001b[39;49m\u001b[43mkwargs\u001b[49m\u001b[43m)\u001b[49m\n",
      "File \u001b[0;32m~/.pyenv/versions/nba_betting_analysis/lib/python3.10/site-packages/pandas/core/frame.py:6912\u001b[0m, in \u001b[0;36mDataFrame.sort_values\u001b[0;34m(self, by, axis, ascending, inplace, kind, na_position, ignore_index, key)\u001b[0m\n\u001b[1;32m   6908\u001b[0m \u001b[38;5;28;01melif\u001b[39;00m \u001b[38;5;28mlen\u001b[39m(by):\n\u001b[1;32m   6909\u001b[0m     \u001b[38;5;66;03m# len(by) == 1\u001b[39;00m\n\u001b[1;32m   6911\u001b[0m     by \u001b[38;5;241m=\u001b[39m by[\u001b[38;5;241m0\u001b[39m]\n\u001b[0;32m-> 6912\u001b[0m     k \u001b[38;5;241m=\u001b[39m \u001b[38;5;28;43mself\u001b[39;49m\u001b[38;5;241;43m.\u001b[39;49m\u001b[43m_get_label_or_level_values\u001b[49m\u001b[43m(\u001b[49m\u001b[43mby\u001b[49m\u001b[43m,\u001b[49m\u001b[43m \u001b[49m\u001b[43maxis\u001b[49m\u001b[38;5;241;43m=\u001b[39;49m\u001b[43maxis\u001b[49m\u001b[43m)\u001b[49m\n\u001b[1;32m   6914\u001b[0m     \u001b[38;5;66;03m# need to rewrap column in Series to apply key function\u001b[39;00m\n\u001b[1;32m   6915\u001b[0m     \u001b[38;5;28;01mif\u001b[39;00m key \u001b[38;5;129;01mis\u001b[39;00m \u001b[38;5;129;01mnot\u001b[39;00m \u001b[38;5;28;01mNone\u001b[39;00m:\n\u001b[1;32m   6916\u001b[0m         \u001b[38;5;66;03m# error: Incompatible types in assignment (expression has type\u001b[39;00m\n\u001b[1;32m   6917\u001b[0m         \u001b[38;5;66;03m# \"Series\", variable has type \"ndarray\")\u001b[39;00m\n",
      "File \u001b[0;32m~/.pyenv/versions/nba_betting_analysis/lib/python3.10/site-packages/pandas/core/generic.py:1850\u001b[0m, in \u001b[0;36mNDFrame._get_label_or_level_values\u001b[0;34m(self, key, axis)\u001b[0m\n\u001b[1;32m   1844\u001b[0m     values \u001b[38;5;241m=\u001b[39m (\n\u001b[1;32m   1845\u001b[0m         \u001b[38;5;28mself\u001b[39m\u001b[38;5;241m.\u001b[39maxes[axis]\n\u001b[1;32m   1846\u001b[0m         \u001b[38;5;241m.\u001b[39mget_level_values(key)  \u001b[38;5;66;03m# type: ignore[assignment]\u001b[39;00m\n\u001b[1;32m   1847\u001b[0m         \u001b[38;5;241m.\u001b[39m_values\n\u001b[1;32m   1848\u001b[0m     )\n\u001b[1;32m   1849\u001b[0m \u001b[38;5;28;01melse\u001b[39;00m:\n\u001b[0;32m-> 1850\u001b[0m     \u001b[38;5;28;01mraise\u001b[39;00m \u001b[38;5;167;01mKeyError\u001b[39;00m(key)\n\u001b[1;32m   1852\u001b[0m \u001b[38;5;66;03m# Check for duplicates\u001b[39;00m\n\u001b[1;32m   1853\u001b[0m \u001b[38;5;28;01mif\u001b[39;00m values\u001b[38;5;241m.\u001b[39mndim \u001b[38;5;241m>\u001b[39m \u001b[38;5;241m1\u001b[39m:\n",
      "\u001b[0;31mKeyError\u001b[0m: 'GAME_DATE'"
     ]
    }
   ],
   "source": [
    "preproc_part1, X_features = preprocess_advanced('boxscores_advanced_team_all.pkl',\n",
    "                                        roll_methods=['mean'],\n",
    "                                        ohe=True,\n",
    "                                        scaled=False)"
   ]
  },
  {
   "cell_type": "code",
   "execution_count": null,
   "id": "8ffd7cc3",
   "metadata": {},
   "outputs": [],
   "source": [
    "preproc_part1.head()"
   ]
  },
  {
   "cell_type": "code",
   "execution_count": null,
   "id": "69c00f2b",
   "metadata": {},
   "outputs": [],
   "source": [
    "preproc_part1 = preproc_part1[preproc_part1['GAME_DATE'] == datetime.now().strftime('%Y-%m-%d')]"
   ]
  },
  {
   "cell_type": "code",
   "execution_count": null,
   "id": "7da2064a",
   "metadata": {},
   "outputs": [],
   "source": [
    "#get basic boxscore data to add columns to the advanced boxscore\n",
    "date = datetime.now() - timedelta(days=60)\n",
    "date_str = date.strftime('%Y-%m-%d')\n",
    "\n",
    "basic = get_basic_boxscores(date=date_str)\n",
    "games_df = basic[['TEAM_ID', 'TEAM_ABBREVIATION', 'GAME_ID', 'GAME_DATE', 'HOME_TEAM', 'PLUS_MINUS']].copy()\n",
    "\n",
    "#get advanced boxscore data from pickle\n",
    "# advanced = pd.read_pickle(f'data/pkl/{adv_pickle_filename}')\n",
    "advanced = pd.read_pickle('data/pkl/boxscores_advanced_team_all.pkl')"
   ]
  },
  {
   "cell_type": "code",
   "execution_count": null,
   "id": "5c68e645",
   "metadata": {},
   "outputs": [],
   "source": [
    "pd.concat([games_today_df, games_df], ignore_index=True, sort=False)"
   ]
  },
  {
   "cell_type": "code",
   "execution_count": null,
   "id": "2f4f3d45",
   "metadata": {},
   "outputs": [],
   "source": [
    "pd.concat([advanced_today_df, advanced], ignore_index=True, sort=False)"
   ]
  },
  {
   "cell_type": "markdown",
   "id": "c87754d4",
   "metadata": {},
   "source": [
    "# Today's games"
   ]
  },
  {
   "cell_type": "code",
   "execution_count": null,
   "id": "513fe5ff",
   "metadata": {},
   "outputs": [],
   "source": [
    "# Get today's date\n",
    "today = datetime.now().strftime('%Y-%m-%d')\n",
    "\n",
    "# Get scoreboard for today's games\n",
    "scoreboard_today = scoreboard.Scoreboard(game_date=today)\n",
    "games = scoreboard_today.game_header.get_data_frame()\n",
    "\n",
    "# Get all NBA teams\n",
    "nba_teams = teams.get_teams()\n",
    "\n",
    "# Create an empty list to store the team data\n",
    "team_data = []\n",
    "\n",
    "# Loop through each game and add team data to the list\n",
    "for index, game in games.iterrows():\n",
    "    home_team_id = game[\"HOME_TEAM_ID\"]\n",
    "    away_team_id = game[\"VISITOR_TEAM_ID\"]\n",
    "    \n",
    "    home_team = next((team for team in nba_teams if team[\"id\"] == home_team_id), None)\n",
    "    away_team = next((team for team in nba_teams if team[\"id\"] == away_team_id), None)\n",
    "    \n",
    "    if home_team is not None and away_team is not None:\n",
    "        team_data.append({\n",
    "            \"game_id\": game[\"GAME_ID\"],\n",
    "            \"home_team_id\": home_team[\"id\"],\n",
    "            \"home_team\": home_team[\"abbreviation\"],\n",
    "            \"away_team_id\": away_team[\"id\"],\n",
    "            \"away_team\": away_team[\"abbreviation\"]\n",
    "        })\n",
    "\n",
    "# Convert the list of team data to a DataFrame\n",
    "team_df = pd.DataFrame(team_data)\n",
    "\n",
    "# Print the DataFrame\n",
    "print(team_df)\n"
   ]
  },
  {
   "cell_type": "code",
   "execution_count": null,
   "id": "850cedf8",
   "metadata": {},
   "outputs": [],
   "source": [
    "df1 = team_df[['home_team_id', 'home_team', 'game_id']]\n",
    "df1.rename(columns={'game_id': 'GAME_ID', 'home_team': 'TEAM_ABBREVIATION', 'home_team_id': 'TEAM_ID'}, inplace=True)\n",
    "df1['GAME_DATE'] = pd.to_datetime(today)\n",
    "df1['HOME_TEAM'] = 1\n",
    "df1['PLUS_MINUS'] = 0\n",
    "df1"
   ]
  },
  {
   "cell_type": "code",
   "execution_count": null,
   "id": "87bc7200",
   "metadata": {},
   "outputs": [],
   "source": [
    "df2 = team_df[['away_team_id', 'away_team', 'game_id']]\n",
    "df2.rename(columns={'game_id': 'GAME_ID', 'away_team': 'TEAM_ABBREVIATION', 'away_team_id': 'TEAM_ID'}, inplace=True)\n",
    "df2['GAME_DATE'] = today\n",
    "df2['HOME_TEAM'] = 0\n",
    "df2['PLUS_MINUS'] = 0\n",
    "df2"
   ]
  },
  {
   "cell_type": "code",
   "execution_count": null,
   "id": "94df8cb1",
   "metadata": {},
   "outputs": [],
   "source": [
    "games_today_df = pd.concat([df1, df2], ignore_index=True, sort=False)"
   ]
  },
  {
   "cell_type": "code",
   "execution_count": null,
   "id": "c6a2173b",
   "metadata": {},
   "outputs": [],
   "source": [
    "games_today_df.GAME_DATE = pd.to_datetime(games_today_df.GAME_DATE)"
   ]
  },
  {
   "cell_type": "code",
   "execution_count": null,
   "id": "d603d5ff",
   "metadata": {},
   "outputs": [],
   "source": [
    "advanced_today_df = games_today_df\n",
    "advanced_today_df\n",
    "\n",
    "columns = ['TEAM_NAME', 'TEAM_CITY',\n",
    "'MIN', 'E_OFF_RATING', 'OFF_RATING', 'E_DEF_RATING', 'DEF_RATING',\n",
    "'E_NET_RATING', 'NET_RATING', 'AST_PCT', 'AST_TOV', 'AST_RATIO',\n",
    "'OREB_PCT', 'DREB_PCT', 'REB_PCT', 'E_TM_TOV_PCT', 'TM_TOV_PCT',\n",
    "'EFG_PCT', 'TS_PCT', 'USG_PCT', 'E_USG_PCT', 'E_PACE', 'PACE',\n",
    "'PACE_PER40', 'POSS', 'PIE']\n",
    "\n",
    "for column in columns:\n",
    "    advanced_today_df[column] = 0\n",
    "\n",
    "advanced_today_df = advanced_today_df.reindex(columns=['GAME_ID', 'TEAM_ID', 'TEAM_NAME', 'TEAM_ABBREVIATION', 'TEAM_CITY',\n",
    "                                                       'MIN', 'E_OFF_RATING', 'OFF_RATING', 'E_DEF_RATING', 'DEF_RATING',\n",
    "                                                       'E_NET_RATING', 'NET_RATING', 'AST_PCT', 'AST_TOV', 'AST_RATIO',\n",
    "                                                       'OREB_PCT', 'DREB_PCT', 'REB_PCT', 'E_TM_TOV_PCT', 'TM_TOV_PCT',\n",
    "                                                       'EFG_PCT', 'TS_PCT', 'USG_PCT', 'E_USG_PCT', 'E_PACE', 'PACE',\n",
    "                                                       'PACE_PER40', 'POSS', 'PIE'])\n"
   ]
  },
  {
   "cell_type": "markdown",
   "id": "124f90d5",
   "metadata": {},
   "source": [
    "# Debug"
   ]
  },
  {
   "cell_type": "code",
   "execution_count": null,
   "id": "8db91c0f",
   "metadata": {},
   "outputs": [],
   "source": [
    "from datetime import datetime, timedelta\n",
    "date = datetime.now() - timedelta(days=50)\n",
    "date_str = date.strftime('%Y-%m-%d')"
   ]
  },
  {
   "cell_type": "code",
   "execution_count": null,
   "id": "9b6641e5",
   "metadata": {},
   "outputs": [],
   "source": [
    "date_str"
   ]
  },
  {
   "cell_type": "code",
   "execution_count": null,
   "id": "2d324752",
   "metadata": {},
   "outputs": [],
   "source": [
    "basic = get_basic_boxscores(date=date_str)\n",
    "games_df = basic[['TEAM_ID', 'TEAM_ABBREVIATION', 'GAME_ID', 'GAME_DATE', 'HOME_TEAM', 'PLUS_MINUS']].copy()"
   ]
  },
  {
   "cell_type": "code",
   "execution_count": null,
   "id": "2fa7042a",
   "metadata": {},
   "outputs": [],
   "source": [
    "games_df"
   ]
  },
  {
   "cell_type": "code",
   "execution_count": null,
   "id": "4d9245d4",
   "metadata": {},
   "outputs": [],
   "source": [
    "games_df.head(600)['TEAM_ABBREVIATION'].value_counts()"
   ]
  },
  {
   "cell_type": "code",
   "execution_count": null,
   "id": "7f1ae8d4",
   "metadata": {},
   "outputs": [],
   "source": [
    "#get advanced boxscore data from pickle\n",
    "advanced = pd.read_pickle('data/pkl/boxscores_advanced_team_all.pkl')"
   ]
  },
  {
   "cell_type": "code",
   "execution_count": null,
   "id": "1e4ff58a",
   "metadata": {},
   "outputs": [],
   "source": [
    "advanced = advanced.head(600)"
   ]
  },
  {
   "cell_type": "code",
   "execution_count": null,
   "id": "733ea4c5",
   "metadata": {},
   "outputs": [],
   "source": [
    "#drop unecessary columns\n",
    "columns_to_drop = ['TEAM_CITY', 'MIN', 'E_OFF_RATING', 'E_DEF_RATING',\n",
    "               'E_NET_RATING', 'AST_RATIO', 'E_TM_TOV_PCT', 'USG_PCT',\n",
    "               'E_USG_PCT', 'E_PACE', 'PACE_PER40', 'PIE']\n",
    "advanced = advanced.drop(columns=columns_to_drop)"
   ]
  },
  {
   "cell_type": "code",
   "execution_count": null,
   "id": "0fa9690b",
   "metadata": {},
   "outputs": [],
   "source": [
    "#change game_id type to match between the 2 data frames\n",
    "advanced['GAME_ID'] = advanced['GAME_ID'].astype('int32')"
   ]
  },
  {
   "cell_type": "code",
   "execution_count": null,
   "id": "37491daf",
   "metadata": {},
   "outputs": [],
   "source": [
    "#merge the needed columns from basic to advanced\n",
    "advanced = advanced.merge(games_df.drop(columns=['TEAM_ID']), on=['GAME_ID', 'TEAM_ABBREVIATION'])"
   ]
  },
  {
   "cell_type": "code",
   "execution_count": null,
   "id": "e4310db9",
   "metadata": {},
   "outputs": [],
   "source": [
    "advanced"
   ]
  },
  {
   "cell_type": "code",
   "execution_count": null,
   "id": "d22ae2d7",
   "metadata": {},
   "outputs": [],
   "source": [
    "advanced = advanced.sort_values(by=['GAME_DATE', 'GAME_ID', 'HOME_TEAM'], ascending=False).reset_index(drop=True)"
   ]
  },
  {
   "cell_type": "code",
   "execution_count": null,
   "id": "ab3ab2c3",
   "metadata": {},
   "outputs": [],
   "source": [
    "advanced = advanced.drop_duplicates()"
   ]
  },
  {
   "cell_type": "code",
   "execution_count": null,
   "id": "3b904f9c",
   "metadata": {},
   "outputs": [],
   "source": [
    "#drop rows that only have 1 team for the game id\n",
    "value_counts = advanced['GAME_ID'].value_counts()\n",
    "unique_values = value_counts[value_counts == 1].index.tolist()\n",
    "advanced = advanced[~advanced['GAME_ID'].isin(unique_values)]\n",
    "advanced = advanced.reset_index(drop=True)"
   ]
  },
  {
   "cell_type": "code",
   "execution_count": null,
   "id": "3cf67532",
   "metadata": {},
   "outputs": [],
   "source": [
    "advanced_desc = advanced.sort_values(by=['GAME_DATE'], ascending=True).copy()\n",
    "advanced_desc"
   ]
  },
  {
   "cell_type": "code",
   "execution_count": null,
   "id": "c3b0f5f0",
   "metadata": {},
   "outputs": [],
   "source": [
    "#define features to engineer\n",
    "non_eng_features = ['TEAM_ABBREVIATION', 'GAME_ID', 'TEAM_ID', 'TEAM_NAME',\n",
    "                    'GAME_DATE', 'HOME_TEAM', 'PLUS_MINUS']\n",
    "eng_features = advanced_desc.drop(columns=non_eng_features).columns.tolist()"
   ]
  },
  {
   "cell_type": "code",
   "execution_count": null,
   "id": "ad9173c8",
   "metadata": {},
   "outputs": [],
   "source": [
    "roll_methods=['mean']"
   ]
  },
  {
   "cell_type": "code",
   "execution_count": null,
   "id": "0db10c8d",
   "metadata": {},
   "outputs": [],
   "source": [
    "#caluculate rolling metrics\n",
    "if 'mean' in roll_methods:\n",
    "    df_temp = roll(df = advanced_desc, roll_number=4, procedure='mean', selected_columns=eng_features)\n",
    "    advanced = advanced.merge(df_temp, left_index=True, right_index=True)\n",
    "if 'median' in roll_methods:\n",
    "    df_temp = roll(df = advanced_desc, roll_number=4, procedure='median', selected_columns=eng_features)\n",
    "    advanced = advanced.merge(df_temp, left_index=True, right_index=True)\n",
    "if 'std' in roll_methods:\n",
    "    df_temp = roll(df = advanced_desc, roll_number=4, procedure='std', selected_columns=eng_features)\n",
    "    advanced = advanced.merge(df_temp, left_index=True, right_index=True)"
   ]
  },
  {
   "cell_type": "code",
   "execution_count": null,
   "id": "f7af3fb3",
   "metadata": {},
   "outputs": [],
   "source": [
    "advanced"
   ]
  },
  {
   "cell_type": "code",
   "execution_count": null,
   "id": "f537abe3",
   "metadata": {},
   "outputs": [],
   "source": [
    "#drop original columns to prevent data leakage\n",
    "drop_columns = ['OFF_RATING', 'DEF_RATING', 'NET_RATING', 'AST_PCT', 'AST_TOV', 'OREB_PCT', 'DREB_PCT',\n",
    "    'REB_PCT', 'TM_TOV_PCT', 'EFG_PCT', 'TS_PCT', 'PACE', 'POSS']\n",
    "advanced.drop(columns=drop_columns, inplace=True)"
   ]
  },
  {
   "cell_type": "code",
   "execution_count": null,
   "id": "07d11f41",
   "metadata": {},
   "outputs": [],
   "source": [
    "advanced"
   ]
  },
  {
   "cell_type": "code",
   "execution_count": null,
   "id": "fc4f6990",
   "metadata": {},
   "outputs": [],
   "source": [
    "#split data frame between the home teams and the away teams\n",
    "advanced = advanced.sort_values(by=['GAME_DATE', 'GAME_ID', 'HOME_TEAM'], ascending=False).reset_index(drop=True)\n",
    "adv_home = advanced.iloc[::2].copy()\n",
    "adv_away = advanced.iloc[1::2].copy()"
   ]
  },
  {
   "cell_type": "code",
   "execution_count": null,
   "id": "271af553",
   "metadata": {},
   "outputs": [],
   "source": [
    "advanced.head(30)"
   ]
  },
  {
   "cell_type": "code",
   "execution_count": null,
   "id": "966e8072",
   "metadata": {},
   "outputs": [],
   "source": []
  },
  {
   "cell_type": "markdown",
   "id": "57bb6e9a",
   "metadata": {},
   "source": [
    "# Basic boxscores"
   ]
  },
  {
   "cell_type": "code",
   "execution_count": null,
   "id": "08398bd9",
   "metadata": {},
   "outputs": [],
   "source": [
    "from nba_api.stats.static import teams\n",
    "from nba_api.stats.endpoints import scoreboard\n",
    "\n",
    "# Get yesterday's date\n",
    "from datetime import datetime, timedelta\n",
    "yesterday = datetime.now() - timedelta(days=1)\n",
    "yesterday_str = yesterday.strftime('%m/%d/%Y')\n",
    "\n",
    "scoreboard_ = scoreboard.Scoreboard(game_date=yesterday_str, league_id='00', day_offset=0)\n",
    "games = scoreboard_.game_header.get_data_frame()\n",
    "if not games.empty:\n",
    "    game_ids = list(games['GAME_ID'])\n",
    "    print(team['full_name'], game_ids)"
   ]
  },
  {
   "cell_type": "markdown",
   "id": "1b66b518",
   "metadata": {},
   "source": [
    "# Advanced boxscores"
   ]
  },
  {
   "cell_type": "markdown",
   "id": "4b811a0e",
   "metadata": {},
   "source": [
    "The command above/below gets the advanced boxscore from a given game id\n",
    "\n",
    "boxscores_advanced.get_data_frames()[0] returns the advanced boxscore broken up per player\n",
    "\n",
    "boxscores_advanced.get_data_frames()[1] returns the advanced boxscore broken up per team"
   ]
  },
  {
   "cell_type": "code",
   "execution_count": null,
   "id": "b6c0f578",
   "metadata": {},
   "outputs": [],
   "source": [
    "from nba_api.stats.endpoints import boxscoreadvancedv2\n",
    "\n",
    "boxscores_advanced_player = None\n",
    "boxscores_advanced_team = None\n",
    "\n",
    "for game_id in game_ids:\n",
    "    if boxscores_advanced_team is None:\n",
    "        gamefinder = boxscoreadvancedv2.BoxScoreAdvancedV2(game_id=game_id)\n",
    "        boxscores_advanced_team = gamefinder.get_data_frames()[1]\n",
    "        boxscores_advanced_player = gamefinder.get_data_frames()[0]\n",
    "    else:\n",
    "        gamefinder = boxscoreadvancedv2.BoxScoreAdvancedV2(game_id=game_id)\n",
    "        boxscores_advanced_team = pd.concat([boxscores_advanced_team, gamefinder.get_data_frames()[1]])\n",
    "        boxscores_advanced_player = pd.concat([boxscores_advanced_player, gamefinder.get_data_frames()[0]])"
   ]
  },
  {
   "cell_type": "code",
   "execution_count": null,
   "id": "0a96ba11",
   "metadata": {},
   "outputs": [],
   "source": [
    "boxscores_advanced_team.columns"
   ]
  },
  {
   "cell_type": "code",
   "execution_count": null,
   "id": "ff31338a",
   "metadata": {},
   "outputs": [],
   "source": [
    "# boxscores_advanced_team_yesterday.to_pickle('boxscores_advanced_team_part2.pkl')"
   ]
  },
  {
   "cell_type": "code",
   "execution_count": null,
   "id": "0ce06ff5",
   "metadata": {},
   "outputs": [],
   "source": [
    "# boxscores_advanced_player_yesterday.to_pickle('boxscores_advanced_player_part2.pkl')"
   ]
  },
  {
   "cell_type": "code",
   "execution_count": null,
   "id": "dcd75b3d",
   "metadata": {},
   "outputs": [],
   "source": [
    "df = pd.read_pickle('../data/pkl/raw_games_5yrs.pkl')"
   ]
  },
  {
   "cell_type": "code",
   "execution_count": null,
   "id": "ca172567",
   "metadata": {},
   "outputs": [],
   "source": [
    "df['GAME_DATE']"
   ]
  },
  {
   "cell_type": "code",
   "execution_count": null,
   "id": "c1f1b424",
   "metadata": {},
   "outputs": [],
   "source": []
  },
  {
   "cell_type": "code",
   "execution_count": null,
   "id": "40649499",
   "metadata": {},
   "outputs": [],
   "source": []
  },
  {
   "cell_type": "markdown",
   "id": "af9dfd75",
   "metadata": {},
   "source": [
    "# Debug"
   ]
  },
  {
   "cell_type": "code",
   "execution_count": null,
   "id": "b01d8cf7",
   "metadata": {},
   "outputs": [],
   "source": [
    "#get basic boxscore data to add columns to the advanced boxscore\n",
    "date = datetime.now() - timedelta(days=60)\n",
    "date_str = date.strftime('%Y-%m-%d')\n",
    "\n",
    "basic = get_basic_boxscores(date=date_str)\n",
    "games_df = basic[['TEAM_ID', 'TEAM_ABBREVIATION', 'GAME_ID', 'GAME_DATE', 'HOME_TEAM', 'PLUS_MINUS']].copy()\n",
    "\n",
    "#get advanced boxscore data from pickle\n",
    "# advanced = pd.read_pickle(f'data/pkl/{adv_pickle_filename}')\n",
    "advanced = pd.read_pickle('data/pkl/boxscores_advanced_team_all.pkl')"
   ]
  },
  {
   "cell_type": "code",
   "execution_count": null,
   "id": "2a128ebe",
   "metadata": {},
   "outputs": [],
   "source": [
    "home_team"
   ]
  },
  {
   "cell_type": "code",
   "execution_count": null,
   "id": "2da9fb44",
   "metadata": {},
   "outputs": [],
   "source": [
    "############################################################################\n",
    "# Get today's date\n",
    "today = datetime.now().strftime('%Y-%m-%d')\n",
    "\n",
    "# Get scoreboard for today's games\n",
    "scoreboard_today = scoreboard.Scoreboard(game_date=today)\n",
    "games = scoreboard_today.game_header.get_data_frame()\n",
    "\n",
    "# Get all NBA teams\n",
    "nba_teams = teams.get_teams()\n",
    "\n",
    "# Create an empty list to store the team data\n",
    "team_data = []\n",
    "\n",
    "# Loop through each game and add team data to the list\n",
    "for index, game in games.iterrows():\n",
    "    home_team_id = game[\"HOME_TEAM_ID\"]\n",
    "    away_team_id = game[\"VISITOR_TEAM_ID\"]\n",
    "\n",
    "    home_team = next((team for team in nba_teams if team[\"id\"] == home_team_id), None)\n",
    "    away_team = next((team for team in nba_teams if team[\"id\"] == away_team_id), None)\n",
    "\n",
    "    if home_team is not None and away_team is not None:\n",
    "        team_data.append({\n",
    "            \"game_id\": game[\"GAME_ID\"],\n",
    "            \"home_team_id\": home_team[\"id\"],\n",
    "            \"home_team_name\": home_team[\"abbreviation\"],\n",
    "            \"home_team\": home_team[\"abbreviation\"],\n",
    "            \"away_team_id\": away_team[\"id\"],\n",
    "            \"away_team\": away_team[\"abbreviation\"],\n",
    "            \"away_team_name\": away_team[\"abbreviation\"]\n",
    "        })\n",
    "\n",
    "# Convert the list of team data to a DataFrame\n",
    "team_df = pd.DataFrame(team_data)\n",
    "\n",
    "df1 = team_df[['home_team_id', 'home_team', 'game_id']]\n",
    "df1.rename(columns={'game_id': 'GAME_ID', 'home_team': 'TEAM_ABBREVIATION', 'home_team_id': 'TEAM_ID'}, inplace=True)\n",
    "df1['GAME_DATE'] = today\n",
    "df1['HOME_TEAM'] = 1\n",
    "df1['PLUS_MINUS'] = 0\n",
    "df2 = team_df[['away_team_id', 'away_team', 'game_id']]\n",
    "df2.rename(columns={'game_id': 'GAME_ID', 'away_team': 'TEAM_ABBREVIATION', 'away_team_id': 'TEAM_ID'}, inplace=True)\n",
    "df2['GAME_DATE'] = today\n",
    "df2['HOME_TEAM'] = 0\n",
    "df2['PLUS_MINUS'] = 0\n",
    "games_today_df = pd.concat([df1, df2], ignore_index=True, sort=False)\n",
    "games_today_df.GAME_DATE = pd.to_datetime(games_today_df.GAME_DATE)"
   ]
  },
  {
   "cell_type": "code",
   "execution_count": null,
   "id": "e1829f07",
   "metadata": {},
   "outputs": [],
   "source": [
    "games_today_df"
   ]
  },
  {
   "cell_type": "code",
   "execution_count": null,
   "id": "db72b7b8",
   "metadata": {},
   "outputs": [],
   "source": [
    "games_df = pd.concat([games_today_df, games_df], ignore_index=True, sort=False)\n",
    "\n",
    "advanced_today_df = games_today_df\n",
    "\n",
    "columns = ['TEAM_NAME', 'TEAM_CITY',\n",
    "'MIN', 'E_OFF_RATING', 'OFF_RATING', 'E_DEF_RATING', 'DEF_RATING',\n",
    "'E_NET_RATING', 'NET_RATING', 'AST_PCT', 'AST_TOV', 'AST_RATIO',\n",
    "'OREB_PCT', 'DREB_PCT', 'REB_PCT', 'E_TM_TOV_PCT', 'TM_TOV_PCT',\n",
    "'EFG_PCT', 'TS_PCT', 'USG_PCT', 'E_USG_PCT', 'E_PACE', 'PACE',\n",
    "'PACE_PER40', 'POSS', 'PIE']\n",
    "\n",
    "for column in columns:\n",
    "    advanced_today_df[column] = 0\n",
    "\n",
    "advanced_today_df = advanced_today_df.reindex(columns=['GAME_ID', 'TEAM_ID', 'TEAM_NAME', 'TEAM_ABBREVIATION', 'TEAM_CITY',\n",
    "                                                    'MIN', 'E_OFF_RATING', 'OFF_RATING', 'E_DEF_RATING', 'DEF_RATING',\n",
    "                                                    'E_NET_RATING', 'NET_RATING', 'AST_PCT', 'AST_TOV', 'AST_RATIO',\n",
    "                                                    'OREB_PCT', 'DREB_PCT', 'REB_PCT', 'E_TM_TOV_PCT', 'TM_TOV_PCT',\n",
    "                                                    'EFG_PCT', 'TS_PCT', 'USG_PCT', 'E_USG_PCT', 'E_PACE', 'PACE',\n",
    "                                                    'PACE_PER40', 'POSS', 'PIE'])\n",
    "\n",
    "advanced = pd.concat([advanced_today_df, advanced], ignore_index=True, sort=False)"
   ]
  },
  {
   "cell_type": "code",
   "execution_count": null,
   "id": "1e2b75a9",
   "metadata": {},
   "outputs": [],
   "source": []
  },
  {
   "cell_type": "code",
   "execution_count": null,
   "id": "13561d0d",
   "metadata": {},
   "outputs": [],
   "source": []
  },
  {
   "cell_type": "code",
   "execution_count": null,
   "id": "deee0a14",
   "metadata": {},
   "outputs": [],
   "source": []
  },
  {
   "cell_type": "code",
   "execution_count": null,
   "id": "e4012f72",
   "metadata": {},
   "outputs": [],
   "source": []
  },
  {
   "cell_type": "markdown",
   "id": "550079e4",
   "metadata": {},
   "source": [
    "# Debug"
   ]
  },
  {
   "cell_type": "code",
   "execution_count": null,
   "id": "ac633ea3",
   "metadata": {},
   "outputs": [],
   "source": [
    "#get basic boxscore data to add columns to the advanced boxscore\n",
    "date = datetime.now() - timedelta(days=60)\n",
    "date_str = date.strftime('%Y-%m-%d')\n",
    "\n",
    "basic = get_basic_boxscores(date=date_str)\n",
    "games_df = basic[['TEAM_ID', 'TEAM_ABBREVIATION', 'GAME_ID', 'GAME_DATE', 'HOME_TEAM', 'PLUS_MINUS']].copy()\n",
    "\n",
    "#get advanced boxscore data from pickle\n",
    "# advanced = pd.read_pickle(f'data/pkl/{adv_pickle_filename}')\n",
    "advanced = pd.read_pickle('data/pkl/boxscores_advanced_team_all.pkl')"
   ]
  },
  {
   "cell_type": "code",
   "execution_count": null,
   "id": "d95e1276",
   "metadata": {
    "scrolled": true
   },
   "outputs": [],
   "source": [
    "############################################################################\n",
    "# Get today's date\n",
    "today = datetime.now().strftime('%Y-%m-%d')\n",
    "\n",
    "# Get scoreboard for today's games\n",
    "scoreboard_today = scoreboard.Scoreboard(game_date=today)\n",
    "games = scoreboard_today.game_header.get_data_frame()\n",
    "\n",
    "# Get all NBA teams\n",
    "nba_teams = teams.get_teams()\n",
    "\n",
    "# Create an empty list to store the team data\n",
    "team_data = []\n",
    "\n",
    "# Loop through each game and add team data to the list\n",
    "for index, game in games.iterrows():\n",
    "    home_team_id = game[\"HOME_TEAM_ID\"]\n",
    "    away_team_id = game[\"VISITOR_TEAM_ID\"]\n",
    "\n",
    "    home_team = next((team for team in nba_teams if team[\"id\"] == home_team_id), None)\n",
    "    away_team = next((team for team in nba_teams if team[\"id\"] == away_team_id), None)\n",
    "\n",
    "    if home_team is not None and away_team is not None:\n",
    "        team_data.append({\n",
    "            \"game_id\": game[\"GAME_ID\"],\n",
    "            \"home_team_id\": home_team[\"id\"],\n",
    "            \"home_team\": home_team[\"abbreviation\"],\n",
    "            \"away_team_id\": away_team[\"id\"],\n",
    "            \"away_team\": away_team[\"abbreviation\"]\n",
    "        })\n",
    "\n",
    "# Convert the list of team data to a DataFrame\n",
    "team_df = pd.DataFrame(team_data)\n",
    "\n",
    "df1 = team_df[['home_team_id', 'home_team', 'game_id']]\n",
    "df1.rename(columns={'game_id': 'GAME_ID', 'home_team': 'TEAM_ABBREVIATION', 'home_team_id': 'TEAM_ID'}, inplace=True)\n",
    "df1['GAME_DATE'] = today\n",
    "df1['HOME_TEAM'] = 1\n",
    "df1['PLUS_MINUS'] = 0\n",
    "df2 = team_df[['away_team_id', 'away_team', 'game_id']]\n",
    "df2.rename(columns={'game_id': 'GAME_ID', 'away_team': 'TEAM_ABBREVIATION', 'away_team_id': 'TEAM_ID'}, inplace=True)\n",
    "df2['GAME_DATE'] = today\n",
    "df2['HOME_TEAM'] = 0\n",
    "df2['PLUS_MINUS'] = 0\n",
    "games_today_df = pd.concat([df1, df2], ignore_index=True, sort=False)\n",
    "games_today_df.GAME_DATE = pd.to_datetime(games_today_df.GAME_DATE)\n",
    "\n",
    "games_df = pd.concat([games_today_df, games_df], ignore_index=True, sort=False)\n",
    "\n",
    "advanced_today_df = games_today_df\n",
    "\n",
    "columns = ['TEAM_NAME', 'TEAM_CITY',\n",
    "'MIN', 'E_OFF_RATING', 'OFF_RATING', 'E_DEF_RATING', 'DEF_RATING',\n",
    "'E_NET_RATING', 'NET_RATING', 'AST_PCT', 'AST_TOV', 'AST_RATIO',\n",
    "'OREB_PCT', 'DREB_PCT', 'REB_PCT', 'E_TM_TOV_PCT', 'TM_TOV_PCT',\n",
    "'EFG_PCT', 'TS_PCT', 'USG_PCT', 'E_USG_PCT', 'E_PACE', 'PACE',\n",
    "'PACE_PER40', 'POSS', 'PIE']\n",
    "\n",
    "for column in columns:\n",
    "    advanced_today_df[column] = 0\n",
    "\n",
    "advanced_today_df = advanced_today_df.reindex(columns=['GAME_ID', 'TEAM_ID', 'TEAM_NAME', 'TEAM_ABBREVIATION', 'TEAM_CITY',\n",
    "                                                    'MIN', 'E_OFF_RATING', 'OFF_RATING', 'E_DEF_RATING', 'DEF_RATING',\n",
    "                                                    'E_NET_RATING', 'NET_RATING', 'AST_PCT', 'AST_TOV', 'AST_RATIO',\n",
    "                                                    'OREB_PCT', 'DREB_PCT', 'REB_PCT', 'E_TM_TOV_PCT', 'TM_TOV_PCT',\n",
    "                                                    'EFG_PCT', 'TS_PCT', 'USG_PCT', 'E_USG_PCT', 'E_PACE', 'PACE',\n",
    "                                                    'PACE_PER40', 'POSS', 'PIE'])\n",
    "\n",
    "advanced = pd.concat([advanced_today_df, advanced], ignore_index=True, sort=False)\n",
    "############################################################################"
   ]
  },
  {
   "cell_type": "code",
   "execution_count": null,
   "id": "7c8961aa",
   "metadata": {},
   "outputs": [],
   "source": [
    "#drop unecessary columns\n",
    "columns_to_drop = ['TEAM_CITY', 'MIN', 'E_OFF_RATING', 'E_DEF_RATING',\n",
    "               'E_NET_RATING', 'AST_RATIO', 'E_TM_TOV_PCT', 'USG_PCT',\n",
    "               'E_USG_PCT', 'E_PACE', 'PACE_PER40', 'PIE']\n",
    "advanced = advanced.drop(columns=columns_to_drop)\n",
    "\n",
    "#change game_id type to match between the 2 data frames\n",
    "games_df['GAME_ID'] = games_df['GAME_ID'].astype('int32')\n",
    "advanced['GAME_ID'] = advanced['GAME_ID'].astype('int32')\n",
    "\n",
    "#merge the needed columns from basic to advanced\n",
    "advanced = advanced.merge(games_df.drop(columns=['TEAM_ID']), on=['GAME_ID', 'TEAM_ABBREVIATION'])"
   ]
  },
  {
   "cell_type": "code",
   "execution_count": null,
   "id": "4e72be9a",
   "metadata": {},
   "outputs": [],
   "source": [
    "advanced = advanced.drop_duplicates()\n",
    "\n",
    "#drop rows that only have 1 team for the game id\n",
    "value_counts = advanced['GAME_ID'].value_counts()\n",
    "unique_values = value_counts[value_counts == 1].index.tolist()\n",
    "advanced = advanced[~advanced['GAME_ID'].isin(unique_values)]\n",
    "advanced = advanced.reset_index(drop=True)"
   ]
  },
  {
   "cell_type": "code",
   "execution_count": null,
   "id": "8fbd800b",
   "metadata": {},
   "outputs": [],
   "source": [
    "advanced = advanced.sort_values(by=['GAME_DATE', 'GAME_ID'], ascending=False).copy()"
   ]
  },
  {
   "cell_type": "code",
   "execution_count": null,
   "id": "eebff831",
   "metadata": {},
   "outputs": [],
   "source": [
    "advanced_desc = advanced.sort_values(by=['GAME_DATE', 'GAME_ID'], ascending=True).copy()\n",
    "\n",
    "#define features to engineer\n",
    "non_eng_features = ['TEAM_ABBREVIATION', 'GAME_ID', 'TEAM_ID', 'TEAM_NAME',\n",
    "                    'GAME_DATE', 'HOME_TEAM', 'PLUS_MINUS']\n",
    "eng_features = advanced_desc.drop(columns=non_eng_features).columns.tolist()"
   ]
  },
  {
   "cell_type": "code",
   "execution_count": null,
   "id": "c6ff3059",
   "metadata": {},
   "outputs": [],
   "source": [
    "test_advanced = advanced.copy()"
   ]
  },
  {
   "cell_type": "code",
   "execution_count": null,
   "id": "91e247f0",
   "metadata": {},
   "outputs": [],
   "source": [
    "# roll_methods=['mean']\n",
    "# #caluculate rolling metrics\n",
    "# if 'mean' in roll_methods:\n",
    "#     df_temp = roll(df = advanced_desc, roll_number=4, procedure='mean', selected_columns=eng_features)\n",
    "#     advanced = advanced.merge(df_temp, left_index=True, right_index=True)\n",
    "# if 'median' in roll_methods:\n",
    "#     df_temp = roll(df = advanced_desc, roll_number=4, procedure='median', selected_columns=eng_features)\n",
    "#     advanced = advanced.merge(df_temp, left_index=True, right_index=True)\n",
    "# if 'std' in roll_methods:\n",
    "#     df_temp = roll(df = advanced_desc, roll_number=4, procedure='std', selected_columns=eng_features)\n",
    "#     advanced = advanced.merge(df_temp, left_index=True, right_index=True)\n",
    "    \n",
    "# advanced.head(20)"
   ]
  },
  {
   "cell_type": "code",
   "execution_count": null,
   "id": "f9550fb5",
   "metadata": {},
   "outputs": [],
   "source": [
    "test_advanced.head(30)"
   ]
  },
  {
   "cell_type": "code",
   "execution_count": null,
   "id": "0168847c",
   "metadata": {},
   "outputs": [],
   "source": [
    "test_advanced.groupby('TEAM_ABBREVIATION')['x'].rolling(2).mean()"
   ]
  },
  {
   "cell_type": "code",
   "execution_count": null,
   "id": "bd199f85",
   "metadata": {},
   "outputs": [],
   "source": [
    "advanced = advanced.drop_duplicates()\n",
    "\n",
    "#drop rows that only have 1 team for the game id\n",
    "value_counts = advanced['GAME_ID'].value_counts()\n",
    "unique_values = value_counts[value_counts == 1].index.tolist()\n",
    "advanced = advanced[~advanced['GAME_ID'].isin(unique_values)]\n",
    "advanced = advanced.reset_index(drop=True)\n",
    "\n",
    "advanced_desc = advanced.sort_values(by=['GAME_DATE'], ascending=True).copy()\n",
    "\n",
    "#define features to engineer\n",
    "non_eng_features = ['TEAM_ABBREVIATION', 'GAME_ID', 'TEAM_ID', 'TEAM_NAME',\n",
    "                    'GAME_DATE', 'HOME_TEAM', 'PLUS_MINUS']\n",
    "eng_features = advanced_desc.drop(columns=non_eng_features).columns.tolist()\n",
    "\n",
    "\n",
    "roll_methods=['mean']\n",
    "#caluculate rolling metrics\n",
    "if 'mean' in roll_methods:\n",
    "    df_temp = roll(df = advanced_desc, roll_number=4, procedure='mean', selected_columns=eng_features)\n",
    "    advanced = advanced.merge(df_temp, left_index=True, right_index=True)\n",
    "if 'median' in roll_methods:\n",
    "    df_temp = roll(df = advanced_desc, roll_number=4, procedure='median', selected_columns=eng_features)\n",
    "    advanced = advanced.merge(df_temp, left_index=True, right_index=True)\n",
    "if 'std' in roll_methods:\n",
    "    df_temp = roll(df = advanced_desc, roll_number=4, procedure='std', selected_columns=eng_features)\n",
    "    advanced = advanced.merge(df_temp, left_index=True, right_index=True)\n",
    "    \n",
    "advanced.head(20)"
   ]
  },
  {
   "cell_type": "code",
   "execution_count": null,
   "id": "870b4374",
   "metadata": {},
   "outputs": [],
   "source": [
    "df_rolling = df[selected_columns + [\"TEAM_ABBREVIATION\"]]\n",
    "    df_rolling = df_rolling.groupby([\"TEAM_ABBREVIATION\"], group_keys=False)\n",
    "\n",
    "    def find_team_averages(team):\n",
    "        return team.rolling(roll_number, closed='left').mean()\n",
    "\n",
    "    def find_team_medians(team):\n",
    "        return team.rolling(roll_number, closed='left').median()\n",
    "\n",
    "    def find_team_stds(team):\n",
    "        return team.rolling(roll_number, closed='left').std()\n",
    "\n",
    "    if procedure == 'median':\n",
    "        df_rolling = df_rolling.apply(find_team_medians)\n",
    "    elif procedure == 'std':\n",
    "        df_rolling = df_rolling.apply(find_team_stds)\n",
    "    else:\n",
    "        procedure = 'mean'\n",
    "        df_rolling = df_rolling.apply(find_team_averages)\n",
    "\n",
    "    df_rolling = df_rolling[selected_columns]\n",
    "    df_rolling = df_rolling.sort_index()\n",
    "\n",
    "    new_column_names = {}\n",
    "    for col in df_rolling.columns:\n",
    "        new_column_names[col] = col + suff + '_' + procedure\n",
    "\n",
    "    df_rolling = df_rolling.rename(columns=new_column_names)"
   ]
  },
  {
   "cell_type": "markdown",
   "id": "a8231cea",
   "metadata": {},
   "source": [
    "# Frontend"
   ]
  },
  {
   "cell_type": "code",
   "execution_count": null,
   "id": "94ea3a0f",
   "metadata": {},
   "outputs": [],
   "source": [
    "advanced = pd.read_pickle('data/pkl/boxscores_advanced_team_all.pkl')demo_2023-03-16.pkl "
   ]
  },
  {
   "cell_type": "code",
   "execution_count": null,
   "id": "91f2a9fb",
   "metadata": {},
   "outputs": [],
   "source": []
  },
  {
   "cell_type": "code",
   "execution_count": 228,
   "id": "4ae6bc64",
   "metadata": {},
   "outputs": [],
   "source": [
    "advanced = pd.read_pickle('data/pkl/boxscores_advanced_team_all.pkl')"
   ]
  },
  {
   "cell_type": "code",
   "execution_count": 233,
   "id": "ccb523c4",
   "metadata": {},
   "outputs": [
    {
     "data": {
      "text/plain": [
       "['PHI',\n",
       " 'CLE',\n",
       " 'MIA',\n",
       " 'MEM',\n",
       " 'SAC',\n",
       " 'CHI',\n",
       " 'LAL',\n",
       " 'HOU',\n",
       " 'MIN',\n",
       " 'BOS',\n",
       " 'SAS',\n",
       " 'DAL',\n",
       " 'LAC',\n",
       " 'GSW',\n",
       " 'CHA',\n",
       " 'WAS',\n",
       " 'DET',\n",
       " 'TOR',\n",
       " 'DEN',\n",
       " 'NOP',\n",
       " 'OKC',\n",
       " 'BKN',\n",
       " 'ORL',\n",
       " 'PHX',\n",
       " 'MIL',\n",
       " 'POR',\n",
       " 'NYK',\n",
       " 'IND',\n",
       " 'ATL',\n",
       " 'UTA']"
      ]
     },
     "execution_count": 233,
     "metadata": {},
     "output_type": "execute_result"
    }
   ],
   "source": [
    "advanced['TEAM_ABBREVIATION'].unique().tolist()"
   ]
  },
  {
   "cell_type": "code",
   "execution_count": null,
   "id": "21cbbe72",
   "metadata": {},
   "outputs": [],
   "source": []
  }
 ],
 "metadata": {
  "kernelspec": {
   "display_name": "Python 3 (ipykernel)",
   "language": "python",
   "name": "python3"
  },
  "language_info": {
   "codemirror_mode": {
    "name": "ipython",
    "version": 3
   },
   "file_extension": ".py",
   "mimetype": "text/x-python",
   "name": "python",
   "nbconvert_exporter": "python",
   "pygments_lexer": "ipython3",
   "version": "3.10.6"
  },
  "toc": {
   "base_numbering": 1,
   "nav_menu": {},
   "number_sections": true,
   "sideBar": true,
   "skip_h1_title": false,
   "title_cell": "Table of Contents",
   "title_sidebar": "Contents",
   "toc_cell": false,
   "toc_position": {},
   "toc_section_display": true,
   "toc_window_display": false
  }
 },
 "nbformat": 4,
 "nbformat_minor": 5
}
