{
 "cells": [
  {
   "cell_type": "code",
   "execution_count": 1,
   "id": "71f39788",
   "metadata": {},
   "outputs": [],
   "source": [
    "import pandas as pd\n",
    "import numpy as np\n",
    "import matplotlib.pyplot as plt\n",
    "import requests\n",
    "from datetime import datetime, timedelta\n",
    "\n",
    "import os\n",
    "os.chdir('/Users/juliayu001/code/alecmatt5/nba_betting_analysis/backend/logic')\n",
    "from today_games_preprocessor import preprocess_advanced, get_basic_boxscores, roll\n",
    "os.chdir('/Users/juliayu001/code/alecmatt5/nba_betting_analysis/backend')\n",
    "\n",
    "from nba_api.stats.endpoints import scoreboard\n",
    "from nba_api.stats.static import teams"
   ]
  },
  {
   "cell_type": "code",
   "execution_count": null,
   "id": "87830f4f",
   "metadata": {},
   "outputs": [],
   "source": [
    "preproc_part1, X_features = preprocess_advanced('boxscores_advanced_team_all.pkl',\n",
    "                                        roll_methods=['mean'],\n",
    "                                        ohe=True,\n",
    "                                        scaled=False)"
   ]
  },
  {
   "cell_type": "code",
   "execution_count": null,
   "id": "32bfc22d",
   "metadata": {},
   "outputs": [],
   "source": [
    "preproc_part1"
   ]
  },
  {
   "cell_type": "code",
   "execution_count": null,
   "id": "ac1a15ee",
   "metadata": {},
   "outputs": [],
   "source": [
    "preproc_part1[preproc_part1['GAME_DATE'] == datetime.now().strftime('%Y-%m-%d')]"
   ]
  },
  {
   "cell_type": "code",
   "execution_count": null,
   "id": "7da2064a",
   "metadata": {},
   "outputs": [],
   "source": [
    "#get basic boxscore data to add columns to the advanced boxscore\n",
    "date = datetime.now() - timedelta(days=60)\n",
    "date_str = date.strftime('%Y-%m-%d')\n",
    "\n",
    "basic = get_basic_boxscores(date=date_str)\n",
    "games_df = basic[['TEAM_ID', 'TEAM_ABBREVIATION', 'GAME_ID', 'GAME_DATE', 'HOME_TEAM', 'PLUS_MINUS']].copy()\n",
    "\n",
    "#get advanced boxscore data from pickle\n",
    "# advanced = pd.read_pickle(f'data/pkl/{adv_pickle_filename}')\n",
    "advanced = pd.read_pickle('data/pkl/boxscores_advanced_team_all.pkl')"
   ]
  },
  {
   "cell_type": "code",
   "execution_count": null,
   "id": "a1a82052",
   "metadata": {},
   "outputs": [],
   "source": [
    "pd.concat([games_today_df, games_df], ignore_index=True, sort=False)"
   ]
  },
  {
   "cell_type": "code",
   "execution_count": null,
   "id": "3331dedf",
   "metadata": {},
   "outputs": [],
   "source": [
    "pd.concat([advanced_today_df, advanced], ignore_index=True, sort=False)"
   ]
  },
  {
   "cell_type": "markdown",
   "id": "c87754d4",
   "metadata": {},
   "source": [
    "# Today's games"
   ]
  },
  {
   "cell_type": "code",
   "execution_count": null,
   "id": "513fe5ff",
   "metadata": {},
   "outputs": [],
   "source": [
    "# Get today's date\n",
    "today = datetime.now().strftime('%Y-%m-%d')\n",
    "\n",
    "# Get scoreboard for today's games\n",
    "scoreboard_today = scoreboard.Scoreboard(game_date=today)\n",
    "games = scoreboard_today.game_header.get_data_frame()\n",
    "\n",
    "# Get all NBA teams\n",
    "nba_teams = teams.get_teams()\n",
    "\n",
    "# Create an empty list to store the team data\n",
    "team_data = []\n",
    "\n",
    "# Loop through each game and add team data to the list\n",
    "for index, game in games.iterrows():\n",
    "    home_team_id = game[\"HOME_TEAM_ID\"]\n",
    "    away_team_id = game[\"VISITOR_TEAM_ID\"]\n",
    "    \n",
    "    home_team = next((team for team in nba_teams if team[\"id\"] == home_team_id), None)\n",
    "    away_team = next((team for team in nba_teams if team[\"id\"] == away_team_id), None)\n",
    "    \n",
    "    if home_team is not None and away_team is not None:\n",
    "        team_data.append({\n",
    "            \"game_id\": game[\"GAME_ID\"],\n",
    "            \"home_team_id\": home_team[\"id\"],\n",
    "            \"home_team\": home_team[\"abbreviation\"],\n",
    "            \"away_team_id\": away_team[\"id\"],\n",
    "            \"away_team\": away_team[\"abbreviation\"]\n",
    "        })\n",
    "\n",
    "# Convert the list of team data to a DataFrame\n",
    "team_df = pd.DataFrame(team_data)\n",
    "\n",
    "# Print the DataFrame\n",
    "print(team_df)\n"
   ]
  },
  {
   "cell_type": "code",
   "execution_count": null,
   "id": "850cedf8",
   "metadata": {},
   "outputs": [],
   "source": [
    "df1 = team_df[['home_team_id', 'home_team', 'game_id']]\n",
    "df1.rename(columns={'game_id': 'GAME_ID', 'home_team': 'TEAM_ABBREVIATION', 'home_team_id': 'TEAM_ID'}, inplace=True)\n",
    "df1['GAME_DATE'] = pd.to_datetime(today)\n",
    "df1['HOME_TEAM'] = 1\n",
    "df1['PLUS_MINUS'] = 0\n",
    "df1"
   ]
  },
  {
   "cell_type": "code",
   "execution_count": null,
   "id": "87bc7200",
   "metadata": {},
   "outputs": [],
   "source": [
    "df2 = team_df[['away_team_id', 'away_team', 'game_id']]\n",
    "df2.rename(columns={'game_id': 'GAME_ID', 'away_team': 'TEAM_ABBREVIATION', 'away_team_id': 'TEAM_ID'}, inplace=True)\n",
    "df2['GAME_DATE'] = today\n",
    "df2['HOME_TEAM'] = 0\n",
    "df2['PLUS_MINUS'] = 0\n",
    "df2"
   ]
  },
  {
   "cell_type": "code",
   "execution_count": null,
   "id": "94df8cb1",
   "metadata": {},
   "outputs": [],
   "source": [
    "games_today_df = pd.concat([df1, df2], ignore_index=True, sort=False)"
   ]
  },
  {
   "cell_type": "code",
   "execution_count": null,
   "id": "b1153c33",
   "metadata": {},
   "outputs": [],
   "source": [
    "games_today_df.GAME_DATE = pd.to_datetime(games_today_df.GAME_DATE)"
   ]
  },
  {
   "cell_type": "code",
   "execution_count": null,
   "id": "d603d5ff",
   "metadata": {},
   "outputs": [],
   "source": [
    "advanced_today_df = games_today_df\n",
    "advanced_today_df\n",
    "\n",
    "columns = ['TEAM_NAME', 'TEAM_CITY',\n",
    "'MIN', 'E_OFF_RATING', 'OFF_RATING', 'E_DEF_RATING', 'DEF_RATING',\n",
    "'E_NET_RATING', 'NET_RATING', 'AST_PCT', 'AST_TOV', 'AST_RATIO',\n",
    "'OREB_PCT', 'DREB_PCT', 'REB_PCT', 'E_TM_TOV_PCT', 'TM_TOV_PCT',\n",
    "'EFG_PCT', 'TS_PCT', 'USG_PCT', 'E_USG_PCT', 'E_PACE', 'PACE',\n",
    "'PACE_PER40', 'POSS', 'PIE']\n",
    "\n",
    "for column in columns:\n",
    "    advanced_today_df[column] = 0\n",
    "\n",
    "advanced_today_df = advanced_today_df.reindex(columns=['GAME_ID', 'TEAM_ID', 'TEAM_NAME', 'TEAM_ABBREVIATION', 'TEAM_CITY',\n",
    "                                                       'MIN', 'E_OFF_RATING', 'OFF_RATING', 'E_DEF_RATING', 'DEF_RATING',\n",
    "                                                       'E_NET_RATING', 'NET_RATING', 'AST_PCT', 'AST_TOV', 'AST_RATIO',\n",
    "                                                       'OREB_PCT', 'DREB_PCT', 'REB_PCT', 'E_TM_TOV_PCT', 'TM_TOV_PCT',\n",
    "                                                       'EFG_PCT', 'TS_PCT', 'USG_PCT', 'E_USG_PCT', 'E_PACE', 'PACE',\n",
    "                                                       'PACE_PER40', 'POSS', 'PIE'])\n"
   ]
  },
  {
   "cell_type": "markdown",
   "id": "124f90d5",
   "metadata": {},
   "source": [
    "# Debug"
   ]
  },
  {
   "cell_type": "code",
   "execution_count": null,
   "id": "8db91c0f",
   "metadata": {},
   "outputs": [],
   "source": [
    "from datetime import datetime, timedelta\n",
    "date = datetime.now() - timedelta(days=50)\n",
    "date_str = date.strftime('%Y-%m-%d')"
   ]
  },
  {
   "cell_type": "code",
   "execution_count": null,
   "id": "9b6641e5",
   "metadata": {},
   "outputs": [],
   "source": [
    "date_str"
   ]
  },
  {
   "cell_type": "code",
   "execution_count": null,
   "id": "2d324752",
   "metadata": {},
   "outputs": [],
   "source": [
    "basic = get_basic_boxscores(date=date_str)\n",
    "games_df = basic[['TEAM_ID', 'TEAM_ABBREVIATION', 'GAME_ID', 'GAME_DATE', 'HOME_TEAM', 'PLUS_MINUS']].copy()"
   ]
  },
  {
   "cell_type": "code",
   "execution_count": null,
   "id": "2fa7042a",
   "metadata": {},
   "outputs": [],
   "source": [
    "games_df"
   ]
  },
  {
   "cell_type": "code",
   "execution_count": null,
   "id": "4d9245d4",
   "metadata": {},
   "outputs": [],
   "source": [
    "games_df.head(600)['TEAM_ABBREVIATION'].value_counts()"
   ]
  },
  {
   "cell_type": "code",
   "execution_count": null,
   "id": "7f1ae8d4",
   "metadata": {},
   "outputs": [],
   "source": [
    "#get advanced boxscore data from pickle\n",
    "advanced = pd.read_pickle('data/pkl/boxscores_advanced_team_all.pkl')"
   ]
  },
  {
   "cell_type": "code",
   "execution_count": null,
   "id": "1e4ff58a",
   "metadata": {},
   "outputs": [],
   "source": [
    "advanced = advanced.head(600)"
   ]
  },
  {
   "cell_type": "code",
   "execution_count": null,
   "id": "733ea4c5",
   "metadata": {},
   "outputs": [],
   "source": [
    "#drop unecessary columns\n",
    "columns_to_drop = ['TEAM_CITY', 'MIN', 'E_OFF_RATING', 'E_DEF_RATING',\n",
    "               'E_NET_RATING', 'AST_RATIO', 'E_TM_TOV_PCT', 'USG_PCT',\n",
    "               'E_USG_PCT', 'E_PACE', 'PACE_PER40', 'PIE']\n",
    "advanced = advanced.drop(columns=columns_to_drop)"
   ]
  },
  {
   "cell_type": "code",
   "execution_count": null,
   "id": "0fa9690b",
   "metadata": {},
   "outputs": [],
   "source": [
    "#change game_id type to match between the 2 data frames\n",
    "advanced['GAME_ID'] = advanced['GAME_ID'].astype('int32')"
   ]
  },
  {
   "cell_type": "code",
   "execution_count": null,
   "id": "37491daf",
   "metadata": {},
   "outputs": [],
   "source": [
    "#merge the needed columns from basic to advanced\n",
    "advanced = advanced.merge(games_df.drop(columns=['TEAM_ID']), on=['GAME_ID', 'TEAM_ABBREVIATION'])"
   ]
  },
  {
   "cell_type": "code",
   "execution_count": null,
   "id": "e4310db9",
   "metadata": {},
   "outputs": [],
   "source": [
    "advanced"
   ]
  },
  {
   "cell_type": "code",
   "execution_count": null,
   "id": "d22ae2d7",
   "metadata": {},
   "outputs": [],
   "source": [
    "advanced = advanced.sort_values(by=['GAME_DATE', 'GAME_ID', 'HOME_TEAM'], ascending=False).reset_index(drop=True)"
   ]
  },
  {
   "cell_type": "code",
   "execution_count": null,
   "id": "ab3ab2c3",
   "metadata": {},
   "outputs": [],
   "source": [
    "advanced = advanced.drop_duplicates()"
   ]
  },
  {
   "cell_type": "code",
   "execution_count": null,
   "id": "3b904f9c",
   "metadata": {},
   "outputs": [],
   "source": [
    "#drop rows that only have 1 team for the game id\n",
    "value_counts = advanced['GAME_ID'].value_counts()\n",
    "unique_values = value_counts[value_counts == 1].index.tolist()\n",
    "advanced = advanced[~advanced['GAME_ID'].isin(unique_values)]\n",
    "advanced = advanced.reset_index(drop=True)"
   ]
  },
  {
   "cell_type": "code",
   "execution_count": null,
   "id": "3cf67532",
   "metadata": {},
   "outputs": [],
   "source": [
    "advanced_desc = advanced.sort_values(by=['GAME_DATE'], ascending=True).copy()\n",
    "advanced_desc"
   ]
  },
  {
   "cell_type": "code",
   "execution_count": null,
   "id": "c3b0f5f0",
   "metadata": {},
   "outputs": [],
   "source": [
    "#define features to engineer\n",
    "non_eng_features = ['TEAM_ABBREVIATION', 'GAME_ID', 'TEAM_ID', 'TEAM_NAME',\n",
    "                    'GAME_DATE', 'HOME_TEAM', 'PLUS_MINUS']\n",
    "eng_features = advanced_desc.drop(columns=non_eng_features).columns.tolist()"
   ]
  },
  {
   "cell_type": "code",
   "execution_count": null,
   "id": "ad9173c8",
   "metadata": {},
   "outputs": [],
   "source": [
    "roll_methods=['mean']"
   ]
  },
  {
   "cell_type": "code",
   "execution_count": null,
   "id": "0db10c8d",
   "metadata": {},
   "outputs": [],
   "source": [
    "#caluculate rolling metrics\n",
    "if 'mean' in roll_methods:\n",
    "    df_temp = roll(df = advanced_desc, roll_number=4, procedure='mean', selected_columns=eng_features)\n",
    "    advanced = advanced.merge(df_temp, left_index=True, right_index=True)\n",
    "if 'median' in roll_methods:\n",
    "    df_temp = roll(df = advanced_desc, roll_number=4, procedure='median', selected_columns=eng_features)\n",
    "    advanced = advanced.merge(df_temp, left_index=True, right_index=True)\n",
    "if 'std' in roll_methods:\n",
    "    df_temp = roll(df = advanced_desc, roll_number=4, procedure='std', selected_columns=eng_features)\n",
    "    advanced = advanced.merge(df_temp, left_index=True, right_index=True)"
   ]
  },
  {
   "cell_type": "code",
   "execution_count": null,
   "id": "f7af3fb3",
   "metadata": {},
   "outputs": [],
   "source": [
    "advanced"
   ]
  },
  {
   "cell_type": "code",
   "execution_count": null,
   "id": "f537abe3",
   "metadata": {},
   "outputs": [],
   "source": [
    "#drop original columns to prevent data leakage\n",
    "drop_columns = ['OFF_RATING', 'DEF_RATING', 'NET_RATING', 'AST_PCT', 'AST_TOV', 'OREB_PCT', 'DREB_PCT',\n",
    "    'REB_PCT', 'TM_TOV_PCT', 'EFG_PCT', 'TS_PCT', 'PACE', 'POSS']\n",
    "advanced.drop(columns=drop_columns, inplace=True)"
   ]
  },
  {
   "cell_type": "code",
   "execution_count": null,
   "id": "07d11f41",
   "metadata": {},
   "outputs": [],
   "source": [
    "advanced"
   ]
  },
  {
   "cell_type": "code",
   "execution_count": null,
   "id": "fc4f6990",
   "metadata": {},
   "outputs": [],
   "source": [
    "#split data frame between the home teams and the away teams\n",
    "advanced = advanced.sort_values(by=['GAME_DATE', 'GAME_ID', 'HOME_TEAM'], ascending=False).reset_index(drop=True)\n",
    "adv_home = advanced.iloc[::2].copy()\n",
    "adv_away = advanced.iloc[1::2].copy()"
   ]
  },
  {
   "cell_type": "code",
   "execution_count": null,
   "id": "271af553",
   "metadata": {},
   "outputs": [],
   "source": [
    "advanced.head(30)"
   ]
  },
  {
   "cell_type": "code",
   "execution_count": null,
   "id": "966e8072",
   "metadata": {},
   "outputs": [],
   "source": []
  },
  {
   "cell_type": "markdown",
   "id": "57bb6e9a",
   "metadata": {},
   "source": [
    "# Basic boxscores"
   ]
  },
  {
   "cell_type": "code",
   "execution_count": null,
   "id": "08398bd9",
   "metadata": {},
   "outputs": [],
   "source": [
    "from nba_api.stats.static import teams\n",
    "from nba_api.stats.endpoints import scoreboard\n",
    "\n",
    "# Get yesterday's date\n",
    "from datetime import datetime, timedelta\n",
    "yesterday = datetime.now() - timedelta(days=1)\n",
    "yesterday_str = yesterday.strftime('%m/%d/%Y')\n",
    "\n",
    "scoreboard_ = scoreboard.Scoreboard(game_date=yesterday_str, league_id='00', day_offset=0)\n",
    "games = scoreboard_.game_header.get_data_frame()\n",
    "if not games.empty:\n",
    "    game_ids = list(games['GAME_ID'])\n",
    "    print(team['full_name'], game_ids)"
   ]
  },
  {
   "cell_type": "markdown",
   "id": "1b66b518",
   "metadata": {},
   "source": [
    "# Advanced boxscores"
   ]
  },
  {
   "cell_type": "markdown",
   "id": "4b811a0e",
   "metadata": {},
   "source": [
    "The command above/below gets the advanced boxscore from a given game id\n",
    "\n",
    "boxscores_advanced.get_data_frames()[0] returns the advanced boxscore broken up per player\n",
    "\n",
    "boxscores_advanced.get_data_frames()[1] returns the advanced boxscore broken up per team"
   ]
  },
  {
   "cell_type": "code",
   "execution_count": null,
   "id": "b6c0f578",
   "metadata": {},
   "outputs": [],
   "source": [
    "from nba_api.stats.endpoints import boxscoreadvancedv2\n",
    "\n",
    "boxscores_advanced_player = None\n",
    "boxscores_advanced_team = None\n",
    "\n",
    "for game_id in game_ids:\n",
    "    if boxscores_advanced_team is None:\n",
    "        gamefinder = boxscoreadvancedv2.BoxScoreAdvancedV2(game_id=game_id)\n",
    "        boxscores_advanced_team = gamefinder.get_data_frames()[1]\n",
    "        boxscores_advanced_player = gamefinder.get_data_frames()[0]\n",
    "    else:\n",
    "        gamefinder = boxscoreadvancedv2.BoxScoreAdvancedV2(game_id=game_id)\n",
    "        boxscores_advanced_team = pd.concat([boxscores_advanced_team, gamefinder.get_data_frames()[1]])\n",
    "        boxscores_advanced_player = pd.concat([boxscores_advanced_player, gamefinder.get_data_frames()[0]])"
   ]
  },
  {
   "cell_type": "code",
   "execution_count": null,
   "id": "0a96ba11",
   "metadata": {},
   "outputs": [],
   "source": [
    "boxscores_advanced_team.columns"
   ]
  },
  {
   "cell_type": "code",
   "execution_count": null,
   "id": "ff31338a",
   "metadata": {},
   "outputs": [],
   "source": [
    "# boxscores_advanced_team_yesterday.to_pickle('boxscores_advanced_team_part2.pkl')"
   ]
  },
  {
   "cell_type": "code",
   "execution_count": null,
   "id": "0ce06ff5",
   "metadata": {},
   "outputs": [],
   "source": [
    "# boxscores_advanced_player_yesterday.to_pickle('boxscores_advanced_player_part2.pkl')"
   ]
  },
  {
   "cell_type": "code",
   "execution_count": null,
   "id": "dcd75b3d",
   "metadata": {},
   "outputs": [],
   "source": [
    "df = pd.read_pickle('../data/pkl/raw_games_5yrs.pkl')"
   ]
  },
  {
   "cell_type": "code",
   "execution_count": null,
   "id": "ca172567",
   "metadata": {},
   "outputs": [],
   "source": [
    "df['GAME_DATE']"
   ]
  },
  {
   "cell_type": "code",
   "execution_count": null,
   "id": "e3e8ad4e",
   "metadata": {},
   "outputs": [],
   "source": []
  },
  {
   "cell_type": "code",
   "execution_count": null,
   "id": "48d71228",
   "metadata": {},
   "outputs": [],
   "source": []
  },
  {
   "cell_type": "markdown",
   "id": "bf5e9382",
   "metadata": {},
   "source": [
    "# Debug"
   ]
  },
  {
   "cell_type": "code",
   "execution_count": null,
   "id": "3f2c6854",
   "metadata": {},
   "outputs": [],
   "source": [
    "#get basic boxscore data to add columns to the advanced boxscore\n",
    "date = datetime.now() - timedelta(days=60)\n",
    "date_str = date.strftime('%Y-%m-%d')\n",
    "\n",
    "basic = get_basic_boxscores(date=date_str)\n",
    "games_df = basic[['TEAM_ID', 'TEAM_ABBREVIATION', 'GAME_ID', 'GAME_DATE', 'HOME_TEAM', 'PLUS_MINUS']].copy()\n",
    "\n",
    "#get advanced boxscore data from pickle\n",
    "# advanced = pd.read_pickle(f'data/pkl/{adv_pickle_filename}')\n",
    "advanced = pd.read_pickle('data/pkl/boxscores_advanced_team_all.pkl')"
   ]
  },
  {
   "cell_type": "code",
   "execution_count": null,
   "id": "162f91e4",
   "metadata": {},
   "outputs": [],
   "source": [
    "home_team"
   ]
  },
  {
   "cell_type": "code",
   "execution_count": null,
   "id": "fd0faba5",
   "metadata": {},
   "outputs": [],
   "source": [
    "############################################################################\n",
    "# Get today's date\n",
    "today = datetime.now().strftime('%Y-%m-%d')\n",
    "\n",
    "# Get scoreboard for today's games\n",
    "scoreboard_today = scoreboard.Scoreboard(game_date=today)\n",
    "games = scoreboard_today.game_header.get_data_frame()\n",
    "\n",
    "# Get all NBA teams\n",
    "nba_teams = teams.get_teams()\n",
    "\n",
    "# Create an empty list to store the team data\n",
    "team_data = []\n",
    "\n",
    "# Loop through each game and add team data to the list\n",
    "for index, game in games.iterrows():\n",
    "    home_team_id = game[\"HOME_TEAM_ID\"]\n",
    "    away_team_id = game[\"VISITOR_TEAM_ID\"]\n",
    "\n",
    "    home_team = next((team for team in nba_teams if team[\"id\"] == home_team_id), None)\n",
    "    away_team = next((team for team in nba_teams if team[\"id\"] == away_team_id), None)\n",
    "\n",
    "    if home_team is not None and away_team is not None:\n",
    "        team_data.append({\n",
    "            \"game_id\": game[\"GAME_ID\"],\n",
    "            \"home_team_id\": home_team[\"id\"],\n",
    "            \"home_team_name\": home_team[\"abbreviation\"],\n",
    "            \"home_team\": home_team[\"abbreviation\"],\n",
    "            \"away_team_id\": away_team[\"id\"],\n",
    "            \"away_team\": away_team[\"abbreviation\"],\n",
    "            \"away_team_name\": away_team[\"abbreviation\"]\n",
    "        })\n",
    "\n",
    "# Convert the list of team data to a DataFrame\n",
    "team_df = pd.DataFrame(team_data)\n",
    "\n",
    "df1 = team_df[['home_team_id', 'home_team', 'game_id']]\n",
    "df1.rename(columns={'game_id': 'GAME_ID', 'home_team': 'TEAM_ABBREVIATION', 'home_team_id': 'TEAM_ID'}, inplace=True)\n",
    "df1['GAME_DATE'] = today\n",
    "df1['HOME_TEAM'] = 1\n",
    "df1['PLUS_MINUS'] = 0\n",
    "df2 = team_df[['away_team_id', 'away_team', 'game_id']]\n",
    "df2.rename(columns={'game_id': 'GAME_ID', 'away_team': 'TEAM_ABBREVIATION', 'away_team_id': 'TEAM_ID'}, inplace=True)\n",
    "df2['GAME_DATE'] = today\n",
    "df2['HOME_TEAM'] = 0\n",
    "df2['PLUS_MINUS'] = 0\n",
    "games_today_df = pd.concat([df1, df2], ignore_index=True, sort=False)\n",
    "games_today_df.GAME_DATE = pd.to_datetime(games_today_df.GAME_DATE)"
   ]
  },
  {
   "cell_type": "code",
   "execution_count": null,
   "id": "0329553f",
   "metadata": {},
   "outputs": [],
   "source": [
    "games_today_df"
   ]
  },
  {
   "cell_type": "code",
   "execution_count": null,
   "id": "23985894",
   "metadata": {},
   "outputs": [],
   "source": [
    "games_df = pd.concat([games_today_df, games_df], ignore_index=True, sort=False)\n",
    "\n",
    "advanced_today_df = games_today_df\n",
    "\n",
    "columns = ['TEAM_NAME', 'TEAM_CITY',\n",
    "'MIN', 'E_OFF_RATING', 'OFF_RATING', 'E_DEF_RATING', 'DEF_RATING',\n",
    "'E_NET_RATING', 'NET_RATING', 'AST_PCT', 'AST_TOV', 'AST_RATIO',\n",
    "'OREB_PCT', 'DREB_PCT', 'REB_PCT', 'E_TM_TOV_PCT', 'TM_TOV_PCT',\n",
    "'EFG_PCT', 'TS_PCT', 'USG_PCT', 'E_USG_PCT', 'E_PACE', 'PACE',\n",
    "'PACE_PER40', 'POSS', 'PIE']\n",
    "\n",
    "for column in columns:\n",
    "    advanced_today_df[column] = 0\n",
    "\n",
    "advanced_today_df = advanced_today_df.reindex(columns=['GAME_ID', 'TEAM_ID', 'TEAM_NAME', 'TEAM_ABBREVIATION', 'TEAM_CITY',\n",
    "                                                    'MIN', 'E_OFF_RATING', 'OFF_RATING', 'E_DEF_RATING', 'DEF_RATING',\n",
    "                                                    'E_NET_RATING', 'NET_RATING', 'AST_PCT', 'AST_TOV', 'AST_RATIO',\n",
    "                                                    'OREB_PCT', 'DREB_PCT', 'REB_PCT', 'E_TM_TOV_PCT', 'TM_TOV_PCT',\n",
    "                                                    'EFG_PCT', 'TS_PCT', 'USG_PCT', 'E_USG_PCT', 'E_PACE', 'PACE',\n",
    "                                                    'PACE_PER40', 'POSS', 'PIE'])\n",
    "\n",
    "advanced = pd.concat([advanced_today_df, advanced], ignore_index=True, sort=False)"
   ]
  },
  {
   "cell_type": "code",
   "execution_count": null,
   "id": "cd08788d",
   "metadata": {},
   "outputs": [],
   "source": []
  },
  {
   "cell_type": "code",
   "execution_count": null,
   "id": "f41fc599",
   "metadata": {},
   "outputs": [],
   "source": []
  },
  {
   "cell_type": "code",
   "execution_count": null,
   "id": "21fcc082",
   "metadata": {},
   "outputs": [],
   "source": []
  },
  {
   "cell_type": "code",
   "execution_count": null,
   "id": "a6701d54",
   "metadata": {},
   "outputs": [],
   "source": []
  },
  {
   "cell_type": "markdown",
   "id": "97147256",
   "metadata": {},
   "source": [
    "# Debug"
   ]
  },
  {
   "cell_type": "code",
   "execution_count": null,
   "id": "5d6818b0",
   "metadata": {},
   "outputs": [],
   "source": [
    "#get basic boxscore data to add columns to the advanced boxscore\n",
    "date = datetime.now() - timedelta(days=60)\n",
    "date_str = date.strftime('%Y-%m-%d')\n",
    "\n",
    "basic = get_basic_boxscores(date=date_str)\n",
    "games_df = basic[['TEAM_ID', 'TEAM_ABBREVIATION', 'GAME_ID', 'GAME_DATE', 'HOME_TEAM', 'PLUS_MINUS']].copy()\n",
    "\n",
    "#get advanced boxscore data from pickle\n",
    "# advanced = pd.read_pickle(f'data/pkl/{adv_pickle_filename}')\n",
    "advanced = pd.read_pickle('data/pkl/boxscores_advanced_team_all.pkl')"
   ]
  },
  {
   "cell_type": "code",
   "execution_count": null,
   "id": "45723d8b",
   "metadata": {
    "scrolled": true
   },
   "outputs": [],
   "source": [
    "############################################################################\n",
    "# Get today's date\n",
    "today = datetime.now().strftime('%Y-%m-%d')\n",
    "\n",
    "# Get scoreboard for today's games\n",
    "scoreboard_today = scoreboard.Scoreboard(game_date=today)\n",
    "games = scoreboard_today.game_header.get_data_frame()\n",
    "\n",
    "# Get all NBA teams\n",
    "nba_teams = teams.get_teams()\n",
    "\n",
    "# Create an empty list to store the team data\n",
    "team_data = []\n",
    "\n",
    "# Loop through each game and add team data to the list\n",
    "for index, game in games.iterrows():\n",
    "    home_team_id = game[\"HOME_TEAM_ID\"]\n",
    "    away_team_id = game[\"VISITOR_TEAM_ID\"]\n",
    "\n",
    "    home_team = next((team for team in nba_teams if team[\"id\"] == home_team_id), None)\n",
    "    away_team = next((team for team in nba_teams if team[\"id\"] == away_team_id), None)\n",
    "\n",
    "    if home_team is not None and away_team is not None:\n",
    "        team_data.append({\n",
    "            \"game_id\": game[\"GAME_ID\"],\n",
    "            \"home_team_id\": home_team[\"id\"],\n",
    "            \"home_team\": home_team[\"abbreviation\"],\n",
    "            \"away_team_id\": away_team[\"id\"],\n",
    "            \"away_team\": away_team[\"abbreviation\"]\n",
    "        })\n",
    "\n",
    "# Convert the list of team data to a DataFrame\n",
    "team_df = pd.DataFrame(team_data)\n",
    "\n",
    "df1 = team_df[['home_team_id', 'home_team', 'game_id']]\n",
    "df1.rename(columns={'game_id': 'GAME_ID', 'home_team': 'TEAM_ABBREVIATION', 'home_team_id': 'TEAM_ID'}, inplace=True)\n",
    "df1['GAME_DATE'] = today\n",
    "df1['HOME_TEAM'] = 1\n",
    "df1['PLUS_MINUS'] = 0\n",
    "df2 = team_df[['away_team_id', 'away_team', 'game_id']]\n",
    "df2.rename(columns={'game_id': 'GAME_ID', 'away_team': 'TEAM_ABBREVIATION', 'away_team_id': 'TEAM_ID'}, inplace=True)\n",
    "df2['GAME_DATE'] = today\n",
    "df2['HOME_TEAM'] = 0\n",
    "df2['PLUS_MINUS'] = 0\n",
    "games_today_df = pd.concat([df1, df2], ignore_index=True, sort=False)\n",
    "games_today_df.GAME_DATE = pd.to_datetime(games_today_df.GAME_DATE)\n",
    "\n",
    "games_df = pd.concat([games_today_df, games_df], ignore_index=True, sort=False)\n",
    "\n",
    "advanced_today_df = games_today_df\n",
    "\n",
    "columns = ['TEAM_NAME', 'TEAM_CITY',\n",
    "'MIN', 'E_OFF_RATING', 'OFF_RATING', 'E_DEF_RATING', 'DEF_RATING',\n",
    "'E_NET_RATING', 'NET_RATING', 'AST_PCT', 'AST_TOV', 'AST_RATIO',\n",
    "'OREB_PCT', 'DREB_PCT', 'REB_PCT', 'E_TM_TOV_PCT', 'TM_TOV_PCT',\n",
    "'EFG_PCT', 'TS_PCT', 'USG_PCT', 'E_USG_PCT', 'E_PACE', 'PACE',\n",
    "'PACE_PER40', 'POSS', 'PIE']\n",
    "\n",
    "for column in columns:\n",
    "    advanced_today_df[column] = 0\n",
    "\n",
    "advanced_today_df = advanced_today_df.reindex(columns=['GAME_ID', 'TEAM_ID', 'TEAM_NAME', 'TEAM_ABBREVIATION', 'TEAM_CITY',\n",
    "                                                    'MIN', 'E_OFF_RATING', 'OFF_RATING', 'E_DEF_RATING', 'DEF_RATING',\n",
    "                                                    'E_NET_RATING', 'NET_RATING', 'AST_PCT', 'AST_TOV', 'AST_RATIO',\n",
    "                                                    'OREB_PCT', 'DREB_PCT', 'REB_PCT', 'E_TM_TOV_PCT', 'TM_TOV_PCT',\n",
    "                                                    'EFG_PCT', 'TS_PCT', 'USG_PCT', 'E_USG_PCT', 'E_PACE', 'PACE',\n",
    "                                                    'PACE_PER40', 'POSS', 'PIE'])\n",
    "\n",
    "advanced = pd.concat([advanced_today_df, advanced], ignore_index=True, sort=False)\n",
    "############################################################################"
   ]
  },
  {
   "cell_type": "code",
   "execution_count": null,
   "id": "1b4c47cf",
   "metadata": {},
   "outputs": [],
   "source": [
    "#drop unecessary columns\n",
    "columns_to_drop = ['TEAM_CITY', 'MIN', 'E_OFF_RATING', 'E_DEF_RATING',\n",
    "               'E_NET_RATING', 'AST_RATIO', 'E_TM_TOV_PCT', 'USG_PCT',\n",
    "               'E_USG_PCT', 'E_PACE', 'PACE_PER40', 'PIE']\n",
    "advanced = advanced.drop(columns=columns_to_drop)\n",
    "\n",
    "#change game_id type to match between the 2 data frames\n",
    "games_df['GAME_ID'] = games_df['GAME_ID'].astype('int32')\n",
    "advanced['GAME_ID'] = advanced['GAME_ID'].astype('int32')\n",
    "\n",
    "#merge the needed columns from basic to advanced\n",
    "advanced = advanced.merge(games_df.drop(columns=['TEAM_ID']), on=['GAME_ID', 'TEAM_ABBREVIATION'])"
   ]
  },
  {
   "cell_type": "code",
   "execution_count": null,
   "id": "5974b707",
   "metadata": {},
   "outputs": [],
   "source": [
    "advanced = advanced.drop_duplicates()\n",
    "\n",
    "#drop rows that only have 1 team for the game id\n",
    "value_counts = advanced['GAME_ID'].value_counts()\n",
    "unique_values = value_counts[value_counts == 1].index.tolist()\n",
    "advanced = advanced[~advanced['GAME_ID'].isin(unique_values)]\n",
    "advanced = advanced.reset_index(drop=True)"
   ]
  },
  {
   "cell_type": "code",
   "execution_count": null,
   "id": "d0f66683",
   "metadata": {},
   "outputs": [],
   "source": [
    "advanced = advanced.sort_values(by=['GAME_DATE', 'GAME_ID'], ascending=False).copy()"
   ]
  },
  {
   "cell_type": "code",
   "execution_count": null,
   "id": "0342c569",
   "metadata": {},
   "outputs": [],
   "source": [
    "advanced_desc = advanced.sort_values(by=['GAME_DATE', 'GAME_ID'], ascending=True).copy()\n",
    "\n",
    "#define features to engineer\n",
    "non_eng_features = ['TEAM_ABBREVIATION', 'GAME_ID', 'TEAM_ID', 'TEAM_NAME',\n",
    "                    'GAME_DATE', 'HOME_TEAM', 'PLUS_MINUS']\n",
    "eng_features = advanced_desc.drop(columns=non_eng_features).columns.tolist()"
   ]
  },
  {
   "cell_type": "code",
   "execution_count": null,
   "id": "2595b8a3",
   "metadata": {},
   "outputs": [],
   "source": [
    "test_advanced = advanced.copy()"
   ]
  },
  {
   "cell_type": "code",
   "execution_count": null,
   "id": "f9a01ec6",
   "metadata": {},
   "outputs": [],
   "source": [
    "# roll_methods=['mean']\n",
    "# #caluculate rolling metrics\n",
    "# if 'mean' in roll_methods:\n",
    "#     df_temp = roll(df = advanced_desc, roll_number=4, procedure='mean', selected_columns=eng_features)\n",
    "#     advanced = advanced.merge(df_temp, left_index=True, right_index=True)\n",
    "# if 'median' in roll_methods:\n",
    "#     df_temp = roll(df = advanced_desc, roll_number=4, procedure='median', selected_columns=eng_features)\n",
    "#     advanced = advanced.merge(df_temp, left_index=True, right_index=True)\n",
    "# if 'std' in roll_methods:\n",
    "#     df_temp = roll(df = advanced_desc, roll_number=4, procedure='std', selected_columns=eng_features)\n",
    "#     advanced = advanced.merge(df_temp, left_index=True, right_index=True)\n",
    "    \n",
    "# advanced.head(20)"
   ]
  },
  {
   "cell_type": "code",
   "execution_count": null,
   "id": "1a4610e4",
   "metadata": {},
   "outputs": [],
   "source": [
    "test_advanced.head(30)"
   ]
  },
  {
   "cell_type": "code",
   "execution_count": null,
   "id": "5892fed5",
   "metadata": {},
   "outputs": [],
   "source": [
    "test_advanced.groupby('TEAM_ABBREVIATION')['x'].rolling(2).mean()"
   ]
  },
  {
   "cell_type": "code",
   "execution_count": null,
   "id": "a531ef1f",
   "metadata": {},
   "outputs": [],
   "source": [
    "advanced = advanced.drop_duplicates()\n",
    "\n",
    "#drop rows that only have 1 team for the game id\n",
    "value_counts = advanced['GAME_ID'].value_counts()\n",
    "unique_values = value_counts[value_counts == 1].index.tolist()\n",
    "advanced = advanced[~advanced['GAME_ID'].isin(unique_values)]\n",
    "advanced = advanced.reset_index(drop=True)\n",
    "\n",
    "advanced_desc = advanced.sort_values(by=['GAME_DATE'], ascending=True).copy()\n",
    "\n",
    "#define features to engineer\n",
    "non_eng_features = ['TEAM_ABBREVIATION', 'GAME_ID', 'TEAM_ID', 'TEAM_NAME',\n",
    "                    'GAME_DATE', 'HOME_TEAM', 'PLUS_MINUS']\n",
    "eng_features = advanced_desc.drop(columns=non_eng_features).columns.tolist()\n",
    "\n",
    "\n",
    "roll_methods=['mean']\n",
    "#caluculate rolling metrics\n",
    "if 'mean' in roll_methods:\n",
    "    df_temp = roll(df = advanced_desc, roll_number=4, procedure='mean', selected_columns=eng_features)\n",
    "    advanced = advanced.merge(df_temp, left_index=True, right_index=True)\n",
    "if 'median' in roll_methods:\n",
    "    df_temp = roll(df = advanced_desc, roll_number=4, procedure='median', selected_columns=eng_features)\n",
    "    advanced = advanced.merge(df_temp, left_index=True, right_index=True)\n",
    "if 'std' in roll_methods:\n",
    "    df_temp = roll(df = advanced_desc, roll_number=4, procedure='std', selected_columns=eng_features)\n",
    "    advanced = advanced.merge(df_temp, left_index=True, right_index=True)\n",
    "    \n",
    "advanced.head(20)"
   ]
  },
  {
   "cell_type": "code",
   "execution_count": null,
   "id": "0aa9e878",
   "metadata": {},
   "outputs": [],
   "source": [
    "df_rolling = df[selected_columns + [\"TEAM_ABBREVIATION\"]]\n",
    "    df_rolling = df_rolling.groupby([\"TEAM_ABBREVIATION\"], group_keys=False)\n",
    "\n",
    "    def find_team_averages(team):\n",
    "        return team.rolling(roll_number, closed='left').mean()\n",
    "\n",
    "    def find_team_medians(team):\n",
    "        return team.rolling(roll_number, closed='left').median()\n",
    "\n",
    "    def find_team_stds(team):\n",
    "        return team.rolling(roll_number, closed='left').std()\n",
    "\n",
    "    if procedure == 'median':\n",
    "        df_rolling = df_rolling.apply(find_team_medians)\n",
    "    elif procedure == 'std':\n",
    "        df_rolling = df_rolling.apply(find_team_stds)\n",
    "    else:\n",
    "        procedure = 'mean'\n",
    "        df_rolling = df_rolling.apply(find_team_averages)\n",
    "\n",
    "    df_rolling = df_rolling[selected_columns]\n",
    "    df_rolling = df_rolling.sort_index()\n",
    "\n",
    "    new_column_names = {}\n",
    "    for col in df_rolling.columns:\n",
    "        new_column_names[col] = col + suff + '_' + procedure\n",
    "\n",
    "    df_rolling = df_rolling.rename(columns=new_column_names)"
   ]
  }
 ],
 "metadata": {
  "kernelspec": {
   "display_name": "Python 3 (ipykernel)",
   "language": "python",
   "name": "python3"
  },
  "language_info": {
   "codemirror_mode": {
    "name": "ipython",
    "version": 3
   },
   "file_extension": ".py",
   "mimetype": "text/x-python",
   "name": "python",
   "nbconvert_exporter": "python",
   "pygments_lexer": "ipython3",
   "version": "3.10.6"
  },
  "toc": {
   "base_numbering": 1,
   "nav_menu": {},
   "number_sections": true,
   "sideBar": true,
   "skip_h1_title": false,
   "title_cell": "Table of Contents",
   "title_sidebar": "Contents",
   "toc_cell": false,
   "toc_position": {},
   "toc_section_display": true,
   "toc_window_display": false
  }
 },
 "nbformat": 4,
 "nbformat_minor": 5
}
