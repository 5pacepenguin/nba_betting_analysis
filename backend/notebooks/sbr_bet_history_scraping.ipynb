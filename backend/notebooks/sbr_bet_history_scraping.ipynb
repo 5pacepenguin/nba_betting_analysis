{
 "cells": [
  {
   "cell_type": "code",
   "execution_count": 1,
   "id": "7b6168ce",
   "metadata": {},
   "outputs": [],
   "source": [
    "import pandas as pd"
   ]
  },
  {
   "cell_type": "code",
   "execution_count": 13,
   "id": "d957f69e",
   "metadata": {},
   "outputs": [
    {
     "name": "stdout",
     "output_type": "stream",
     "text": [
      " alec_monday_march13.ipynb\r\n",
      " basic_box_team_games_preproc.ipynb\r\n",
      "'Combine preprocessed data pickles.ipynb'\r\n",
      " elliot.ipynb\r\n",
      " friday_pitch.ipynb\r\n",
      " hyperopt_gbdt_players.ipynb\r\n",
      " model_julia.ipynb\r\n",
      " nba_api_example-Copy1.ipynb\r\n",
      " nba_api_example.ipynb\r\n",
      " nba_api_v2.ipynb\r\n",
      " neural_net.ipynb\r\n",
      " NGBoost_julia.ipynb\r\n",
      " Preproc_Alec_Updated.ipynb\r\n",
      " preprocessing_alec.ipynb\r\n",
      " preprocessing_games_df.ipynb\r\n",
      " preprocessing_julia2.ipynb\r\n",
      " preprocessing_julia.ipynb\r\n",
      " production_test_julia.ipynb\r\n",
      " pysbr_sourcing-alec.ipynb\r\n",
      " pysbr_sourcing.ipynb\r\n",
      " pysbrtutorial.ipynb\r\n",
      " Ricky_advanced_box_baseline_model.ipynb\r\n",
      " Ricky_basic_baseline_model.ipynb\r\n",
      " Ricky_model.ipynb\r\n",
      " Ricky_player_advanced_boxscore.ipynb\r\n",
      " Ricky_XGboost.ipynb\r\n",
      " sbr_bet_future_scraping_julia.ipynb\r\n",
      " sbr_bet_history_scraping.ipynb\r\n",
      " secondary_model_alec-Copy1.ipynb\r\n",
      " secondary_model_alec.ipynb\r\n",
      " Untitled.ipynb\r\n",
      " XGboost_Alec.ipynb\r\n"
     ]
    }
   ],
   "source": [
    "!"
   ]
  },
  {
   "cell_type": "code",
   "execution_count": 23,
   "id": "75b1fbb0",
   "metadata": {},
   "outputs": [
    {
     "name": "stdout",
     "output_type": "stream",
     "text": [
      "/home/alec/code/alecmatt5/nba_betting_analysis/nba_betting_analysis/backend/notebooks\r\n"
     ]
    }
   ],
   "source": [
    "!pwd"
   ]
  },
  {
   "cell_type": "code",
   "execution_count": 33,
   "id": "9bc08e43",
   "metadata": {},
   "outputs": [],
   "source": [
    "import os\n",
    "os.chdir('/home/alec/code/alecmatt5/nba_betting_analysis/nba_betting_analysis/backend/py_files')\n",
    "from preprocess import get_basic_boxscores"
   ]
  },
  {
   "cell_type": "code",
   "execution_count": 34,
   "id": "d333e37b",
   "metadata": {},
   "outputs": [],
   "source": [
    "os.chdir('/home/alec/code/alecmatt5/nba_betting_analysis/nba_betting_analysis/backend/notebooks')\n",
    "from bs4 import BeautifulSoup\n",
    "import requests\n",
    "import time"
   ]
  },
  {
   "cell_type": "code",
   "execution_count": 35,
   "id": "a8def98e",
   "metadata": {},
   "outputs": [
    {
     "ename": "FileNotFoundError",
     "evalue": "[Errno 2] No such file or directory: 'data/pkl/sbr_betting_data.pkl'",
     "output_type": "error",
     "traceback": [
      "\u001b[0;31m---------------------------------------------------------------------------\u001b[0m",
      "\u001b[0;31mFileNotFoundError\u001b[0m                         Traceback (most recent call last)",
      "Cell \u001b[0;32mIn[35], line 4\u001b[0m\n\u001b[1;32m      2\u001b[0m games[\u001b[38;5;124m'\u001b[39m\u001b[38;5;124mGAME_DATE\u001b[39m\u001b[38;5;124m'\u001b[39m] \u001b[38;5;241m=\u001b[39m games[\u001b[38;5;124m'\u001b[39m\u001b[38;5;124mGAME_DATE\u001b[39m\u001b[38;5;124m'\u001b[39m]\u001b[38;5;241m.\u001b[39mdt\u001b[38;5;241m.\u001b[39mstrftime(\u001b[38;5;124m'\u001b[39m\u001b[38;5;124m%\u001b[39m\u001b[38;5;124mY-\u001b[39m\u001b[38;5;124m%\u001b[39m\u001b[38;5;124mm-\u001b[39m\u001b[38;5;132;01m%d\u001b[39;00m\u001b[38;5;124m'\u001b[39m)\n\u001b[1;32m      3\u001b[0m games \u001b[38;5;241m=\u001b[39m games\u001b[38;5;241m.\u001b[39msort_values(\u001b[38;5;124m'\u001b[39m\u001b[38;5;124mGAME_DATE\u001b[39m\u001b[38;5;124m'\u001b[39m, ascending\u001b[38;5;241m=\u001b[39m\u001b[38;5;28;01mFalse\u001b[39;00m)\n\u001b[0;32m----> 4\u001b[0m betting_data \u001b[38;5;241m=\u001b[39m \u001b[43mpd\u001b[49m\u001b[38;5;241;43m.\u001b[39;49m\u001b[43mread_pickle\u001b[49m\u001b[43m(\u001b[49m\u001b[38;5;124;43m'\u001b[39;49m\u001b[38;5;124;43mdata/pkl/sbr_betting_data.pkl\u001b[39;49m\u001b[38;5;124;43m'\u001b[39;49m\u001b[43m)\u001b[49m\n\u001b[1;32m      5\u001b[0m last_date \u001b[38;5;241m=\u001b[39m betting_data [\u001b[38;5;124m'\u001b[39m\u001b[38;5;124mGame_Date\u001b[39m\u001b[38;5;124m'\u001b[39m]\u001b[38;5;241m.\u001b[39miloc[\u001b[38;5;241m0\u001b[39m]\n\u001b[1;32m      6\u001b[0m dates \u001b[38;5;241m=\u001b[39m games[games[\u001b[38;5;124m'\u001b[39m\u001b[38;5;124mGAME_DATE\u001b[39m\u001b[38;5;124m'\u001b[39m] \u001b[38;5;241m>\u001b[39m last_date]\u001b[38;5;241m.\u001b[39msort_values(\u001b[38;5;124m'\u001b[39m\u001b[38;5;124mGAME_DATE\u001b[39m\u001b[38;5;124m'\u001b[39m, ascending\u001b[38;5;241m=\u001b[39m\u001b[38;5;28;01mFalse\u001b[39;00m)[\u001b[38;5;124m'\u001b[39m\u001b[38;5;124mGAME_DATE\u001b[39m\u001b[38;5;124m'\u001b[39m]\u001b[38;5;241m.\u001b[39munique()\u001b[38;5;241m.\u001b[39mtolist()\n",
      "File \u001b[0;32m~/.pyenv/versions/nba_betting_analysis/lib/python3.10/site-packages/pandas/io/pickle.py:190\u001b[0m, in \u001b[0;36mread_pickle\u001b[0;34m(filepath_or_buffer, compression, storage_options)\u001b[0m\n\u001b[1;32m    124\u001b[0m \u001b[38;5;250m\u001b[39m\u001b[38;5;124;03m\"\"\"\u001b[39;00m\n\u001b[1;32m    125\u001b[0m \u001b[38;5;124;03mLoad pickled pandas object (or any object) from file.\u001b[39;00m\n\u001b[1;32m    126\u001b[0m \n\u001b[0;32m   (...)\u001b[0m\n\u001b[1;32m    187\u001b[0m \u001b[38;5;124;03m4    4    9\u001b[39;00m\n\u001b[1;32m    188\u001b[0m \u001b[38;5;124;03m\"\"\"\u001b[39;00m\n\u001b[1;32m    189\u001b[0m excs_to_catch \u001b[38;5;241m=\u001b[39m (\u001b[38;5;167;01mAttributeError\u001b[39;00m, \u001b[38;5;167;01mImportError\u001b[39;00m, \u001b[38;5;167;01mModuleNotFoundError\u001b[39;00m, \u001b[38;5;167;01mTypeError\u001b[39;00m)\n\u001b[0;32m--> 190\u001b[0m \u001b[38;5;28;01mwith\u001b[39;00m \u001b[43mget_handle\u001b[49m\u001b[43m(\u001b[49m\n\u001b[1;32m    191\u001b[0m \u001b[43m    \u001b[49m\u001b[43mfilepath_or_buffer\u001b[49m\u001b[43m,\u001b[49m\n\u001b[1;32m    192\u001b[0m \u001b[43m    \u001b[49m\u001b[38;5;124;43m\"\u001b[39;49m\u001b[38;5;124;43mrb\u001b[39;49m\u001b[38;5;124;43m\"\u001b[39;49m\u001b[43m,\u001b[49m\n\u001b[1;32m    193\u001b[0m \u001b[43m    \u001b[49m\u001b[43mcompression\u001b[49m\u001b[38;5;241;43m=\u001b[39;49m\u001b[43mcompression\u001b[49m\u001b[43m,\u001b[49m\n\u001b[1;32m    194\u001b[0m \u001b[43m    \u001b[49m\u001b[43mis_text\u001b[49m\u001b[38;5;241;43m=\u001b[39;49m\u001b[38;5;28;43;01mFalse\u001b[39;49;00m\u001b[43m,\u001b[49m\n\u001b[1;32m    195\u001b[0m \u001b[43m    \u001b[49m\u001b[43mstorage_options\u001b[49m\u001b[38;5;241;43m=\u001b[39;49m\u001b[43mstorage_options\u001b[49m\u001b[43m,\u001b[49m\n\u001b[1;32m    196\u001b[0m \u001b[43m\u001b[49m\u001b[43m)\u001b[49m \u001b[38;5;28;01mas\u001b[39;00m handles:\n\u001b[1;32m    197\u001b[0m \n\u001b[1;32m    198\u001b[0m     \u001b[38;5;66;03m# 1) try standard library Pickle\u001b[39;00m\n\u001b[1;32m    199\u001b[0m     \u001b[38;5;66;03m# 2) try pickle_compat (older pandas version) to handle subclass changes\u001b[39;00m\n\u001b[1;32m    200\u001b[0m     \u001b[38;5;66;03m# 3) try pickle_compat with latin-1 encoding upon a UnicodeDecodeError\u001b[39;00m\n\u001b[1;32m    202\u001b[0m     \u001b[38;5;28;01mtry\u001b[39;00m:\n\u001b[1;32m    203\u001b[0m         \u001b[38;5;66;03m# TypeError for Cython complaints about object.__new__ vs Tick.__new__\u001b[39;00m\n\u001b[1;32m    204\u001b[0m         \u001b[38;5;28;01mtry\u001b[39;00m:\n",
      "File \u001b[0;32m~/.pyenv/versions/nba_betting_analysis/lib/python3.10/site-packages/pandas/io/common.py:865\u001b[0m, in \u001b[0;36mget_handle\u001b[0;34m(path_or_buf, mode, encoding, compression, memory_map, is_text, errors, storage_options)\u001b[0m\n\u001b[1;32m    856\u001b[0m         handle \u001b[38;5;241m=\u001b[39m \u001b[38;5;28mopen\u001b[39m(\n\u001b[1;32m    857\u001b[0m             handle,\n\u001b[1;32m    858\u001b[0m             ioargs\u001b[38;5;241m.\u001b[39mmode,\n\u001b[0;32m   (...)\u001b[0m\n\u001b[1;32m    861\u001b[0m             newline\u001b[38;5;241m=\u001b[39m\u001b[38;5;124m\"\u001b[39m\u001b[38;5;124m\"\u001b[39m,\n\u001b[1;32m    862\u001b[0m         )\n\u001b[1;32m    863\u001b[0m     \u001b[38;5;28;01melse\u001b[39;00m:\n\u001b[1;32m    864\u001b[0m         \u001b[38;5;66;03m# Binary mode\u001b[39;00m\n\u001b[0;32m--> 865\u001b[0m         handle \u001b[38;5;241m=\u001b[39m \u001b[38;5;28;43mopen\u001b[39;49m\u001b[43m(\u001b[49m\u001b[43mhandle\u001b[49m\u001b[43m,\u001b[49m\u001b[43m \u001b[49m\u001b[43mioargs\u001b[49m\u001b[38;5;241;43m.\u001b[39;49m\u001b[43mmode\u001b[49m\u001b[43m)\u001b[49m\n\u001b[1;32m    866\u001b[0m     handles\u001b[38;5;241m.\u001b[39mappend(handle)\n\u001b[1;32m    868\u001b[0m \u001b[38;5;66;03m# Convert BytesIO or file objects passed with an encoding\u001b[39;00m\n",
      "\u001b[0;31mFileNotFoundError\u001b[0m: [Errno 2] No such file or directory: 'data/pkl/sbr_betting_data.pkl'"
     ]
    }
   ],
   "source": [
    "games = get_basic_boxscores(date='2023-03-01')\n",
    "games['GAME_DATE'] = games['GAME_DATE'].dt.strftime('%Y-%m-%d')\n",
    "games = games.sort_values('GAME_DATE', ascending=False)\n",
    "betting_data = pd.read_pickle('data/pkl/sbr_betting_data.pkl')\n",
    "last_date = betting_data ['Game_Date'].iloc[0]\n",
    "dates = games[games['GAME_DATE'] > last_date].sort_values('GAME_DATE', ascending=False)['GAME_DATE'].unique().tolist()\n",
    "\n",
    "\n",
    "first = True\n",
    "for date in dates:\n",
    "    # time.sleep(4)\n",
    "    URL = f\"https://www.sportsbookreview.com/betting-odds/nba-basketball/?date={date}\"\n",
    "    headers = {\"User-Agent\" : \"Mozilla/5.0 (Windows NT 10.0; Win64; x64; rv:99.0) Gecko/20100101 Firefox/99.0\"}\n",
    "\n",
    "    page = requests.get(url=URL) #headers=headers)\n",
    "    soup = BeautifulSoup(page.content, 'html.parser')\n",
    "\n",
    "    teams = soup.find_all(class_='GameRows_participantBox__0WCRz')\n",
    "    spread = soup.find_all(class_=\"OddsCells_compact__cawia border-left\")\n",
    "    wager_percentage = soup.find_all(\"span\", class_=\"opener\")\n",
    "    scores = soup.find_all(class_ = 'GameRows_scores__YkN24')\n",
    "    opening_spread = soup.find_all(class_='GameRows_adjust__NZn2m GameRows_opener__NivKJ')\n",
    "\n",
    "    temp = []\n",
    "    for j in range(int(7*len(teams)/2)):\n",
    "        for w in [1, 2, 4, 5]:\n",
    "            temp.append(spread[j].find_all(\"span\")[w].text)\n",
    "\n",
    "    spreads = []\n",
    "    odds = []\n",
    "    for i in range(len(temp)):\n",
    "        if i % 2 == 0:\n",
    "            spreads.append(temp[i])\n",
    "        else:\n",
    "            odds.append(temp[i])\n",
    "\n",
    "    away = []\n",
    "    home = []\n",
    "    for i in range(len(spreads)):\n",
    "        if i % 2 == 0:\n",
    "            away.append(spreads[i])\n",
    "            away.append(odds[i])\n",
    "        else:\n",
    "            home.append(spreads[i])\n",
    "            home.append(odds[i])\n",
    "\n",
    "    rows_to_add= []\n",
    "    temp_away = []\n",
    "    temp_home = []\n",
    "    splits = [i for i in range(13, (14*20), 14)]\n",
    "    for i in range(len(away)):\n",
    "        temp_away.append(away[i])\n",
    "        temp_home.append(home[i])\n",
    "        if i in splits:\n",
    "            rows_to_add.append(temp_away)\n",
    "            rows_to_add.append(temp_home)\n",
    "            temp_away = []\n",
    "            temp_home = []\n",
    "\n",
    "    row = []\n",
    "    for i in range(len(teams)):\n",
    "        if i % 2 == 0:\n",
    "            opponent = teams[i+1].text\n",
    "            home = 0\n",
    "        else:\n",
    "            opponent = teams[i-1].text\n",
    "            home = 1\n",
    "        row.append([date, teams[i].text, home, opponent, scores[i].text, wager_percentage[i].text, opening_spread[i].text, '-110'])\n",
    "\n",
    "    df_1 = pd.DataFrame(row, columns=['Game_Date', 'Team_Name', 'Home', 'Opponent', 'Points', 'Pct_of_Bets', 'Opening_Spread', 'Opening_Odds'])\n",
    "\n",
    "    columns = ['Betmgm_Spread', 'Betmgm_Odds', 'Draft_Kings_Spread', 'Draft_Kings_Odds',\n",
    "            'Fanduel_Spread', 'Fanduel_Odds', 'Caesars_Spread', 'Caesars_Odds',\n",
    "            'Pointsbet_Spread', 'Pointsbet_Odds', 'Wynn_Spread', 'Wynn_Odds',\n",
    "            'Betrivers_Spread', 'Betrivers_Odds']\n",
    "\n",
    "    df_2 = pd.DataFrame(rows_to_add, columns=columns)\n",
    "\n",
    "    new_df = df_1.merge(df_2, left_index=True, right_index=True)\n",
    "\n",
    "    if new_df.shape[0] != 0:\n",
    "        if first == True:\n",
    "            betting_df = new_df\n",
    "            first = False\n",
    "        else:\n",
    "            betting_df = pd.concat([betting_df, new_df])"
   ]
  },
  {
   "cell_type": "code",
   "execution_count": null,
   "id": "4a0b322d",
   "metadata": {},
   "outputs": [],
   "source": []
  },
  {
   "cell_type": "code",
   "execution_count": null,
   "id": "f4de875b",
   "metadata": {},
   "outputs": [],
   "source": []
  },
  {
   "cell_type": "code",
   "execution_count": null,
   "id": "1bb247e7",
   "metadata": {},
   "outputs": [],
   "source": []
  },
  {
   "cell_type": "code",
   "execution_count": null,
   "id": "0ff9ac5f",
   "metadata": {},
   "outputs": [],
   "source": []
  },
  {
   "cell_type": "code",
   "execution_count": null,
   "id": "dc2713ac",
   "metadata": {},
   "outputs": [],
   "source": []
  },
  {
   "cell_type": "code",
   "execution_count": 37,
   "id": "399a9a9c",
   "metadata": {},
   "outputs": [],
   "source": [
    "games = pd.read_pickle('../data/pkl/raw_games_5yrs.pkl')\n",
    "\n",
    "games['GAME_DATE'] = games['GAME_DATE'].dt.strftime('%Y-%m-%d')\n",
    "\n",
    "dates = games[games['GAME_DATE'] > '2019-10-01'].sort_values('GAME_DATE', ascending=False)['GAME_DATE'].unique().tolist()"
   ]
  },
  {
   "cell_type": "code",
   "execution_count": 17,
   "id": "bebda770",
   "metadata": {},
   "outputs": [],
   "source": [
    "date = '2020-07-08'"
   ]
  },
  {
   "cell_type": "code",
   "execution_count": 18,
   "id": "16ef4784",
   "metadata": {},
   "outputs": [],
   "source": [
    "URL = f\"https://www.sportsbookreview.com/betting-odds/nba-basketball/?date={date}\"\n",
    "headers = {\"User-Agent\" : \"Mozilla/5.0 (Windows NT 10.0; Win64; x64; rv:99.0) Gecko/20100101 Firefox/99.0\"}"
   ]
  },
  {
   "cell_type": "code",
   "execution_count": 19,
   "id": "50285d1b",
   "metadata": {},
   "outputs": [],
   "source": [
    "page = requests.get(url=URL, headers=headers)\n",
    "soup = BeautifulSoup(page.content, 'html.parser')"
   ]
  },
  {
   "cell_type": "code",
   "execution_count": 20,
   "id": "b6b995e9",
   "metadata": {},
   "outputs": [],
   "source": [
    "teams = soup.find_all(class_='GameRows_participantBox__0WCRz')\n",
    "spread = soup.find_all(class_=\"OddsCells_compact__cawia border-left\")\n",
    "wager_percentage = soup.find_all(\"span\", class_=\"opener\")\n",
    "scores = soup.find_all(class_ = 'GameRows_scores__YkN24') \n",
    "opening_spread = soup.find_all(class_='GameRows_adjust__NZn2m GameRows_opener__NivKJ')"
   ]
  },
  {
   "cell_type": "code",
   "execution_count": null,
   "id": "0b72f141",
   "metadata": {},
   "outputs": [],
   "source": []
  },
  {
   "cell_type": "code",
   "execution_count": 21,
   "id": "bbb29cbe",
   "metadata": {},
   "outputs": [],
   "source": [
    "temp = []\n",
    "for j in range(int(7*len(teams)/2)):\n",
    "    for w in [1, 2, 4, 5]:\n",
    "        temp.append(spread[j].find_all(\"span\")[w].text)"
   ]
  },
  {
   "cell_type": "code",
   "execution_count": 22,
   "id": "a9961009",
   "metadata": {},
   "outputs": [],
   "source": [
    "spreads = []\n",
    "odds = []\n",
    "for i in range(len(temp)):\n",
    "    if i % 2 == 0:\n",
    "        spreads.append(temp[i])\n",
    "    else:\n",
    "        odds.append(temp[i])"
   ]
  },
  {
   "cell_type": "code",
   "execution_count": 23,
   "id": "4a39c009",
   "metadata": {},
   "outputs": [],
   "source": [
    "away = []\n",
    "home = []\n",
    "for i in range(len(spreads)):\n",
    "    if i % 2 == 0:\n",
    "        away.append(spreads[i])\n",
    "        away.append(odds[i])\n",
    "    else:\n",
    "        home.append(spreads[i])\n",
    "        home.append(odds[i])"
   ]
  },
  {
   "cell_type": "code",
   "execution_count": 24,
   "id": "3eb88f79",
   "metadata": {},
   "outputs": [],
   "source": [
    "rows_to_add= []\n",
    "temp_away = []\n",
    "temp_home = []\n",
    "splits = [i for i in range(13, (14*20), 14)]\n",
    "for i in range(len(away)):\n",
    "    temp_away.append(away[i])\n",
    "    temp_home.append(home[i])\n",
    "    if i in splits:\n",
    "        rows_to_add.append(temp_away)\n",
    "        rows_to_add.append(temp_home)\n",
    "        temp_away = []\n",
    "        temp_home = []"
   ]
  },
  {
   "cell_type": "code",
   "execution_count": 25,
   "id": "3641f96b",
   "metadata": {},
   "outputs": [],
   "source": [
    "row = []\n",
    "for i in range(len(teams)):\n",
    "    if i % 2 == 0:\n",
    "        opponent = teams[i+1].text\n",
    "        home = 0\n",
    "    else:\n",
    "        opponent = teams[i-1].text\n",
    "        home = 1\n",
    "    row.append([date, teams[i].text, home, opponent, scores[i].text, wager_percentage[i].text, opening_spread[i].text, '-110'])"
   ]
  },
  {
   "cell_type": "code",
   "execution_count": 26,
   "id": "5756b2c3",
   "metadata": {},
   "outputs": [],
   "source": [
    "df_1 = pd.DataFrame(row, columns=['Game_Date', 'Team_Name', 'Home', 'Opponent', 'Points', 'Pct_of_Bets', 'Opening_Spread', 'Opening_Odds'])"
   ]
  },
  {
   "cell_type": "code",
   "execution_count": 27,
   "id": "147a40e2",
   "metadata": {},
   "outputs": [],
   "source": [
    "columns = ['Betmgm', 'Betmgm_Odds', 'Draft_Kings_Odds', 'Draft_Kings_Odds', \n",
    "           'Fanduel_Odds', 'Fanduel_Odds', 'Caesars_Odds', 'Caesars_Odds', \n",
    "           'Pointsbet_Odds', 'Pointsbet_Odds', 'Wynn_Odds', 'Wynn_Odds', \n",
    "           'Betrivers_Odds', 'Betrivers_Odds']"
   ]
  },
  {
   "cell_type": "code",
   "execution_count": 28,
   "id": "326d9dce",
   "metadata": {},
   "outputs": [],
   "source": [
    "df_2 = pd.DataFrame(rows_to_add, columns=columns)"
   ]
  },
  {
   "cell_type": "code",
   "execution_count": 29,
   "id": "3abed2dc",
   "metadata": {},
   "outputs": [
    {
     "data": {
      "text/html": [
       "<div>\n",
       "<style scoped>\n",
       "    .dataframe tbody tr th:only-of-type {\n",
       "        vertical-align: middle;\n",
       "    }\n",
       "\n",
       "    .dataframe tbody tr th {\n",
       "        vertical-align: top;\n",
       "    }\n",
       "\n",
       "    .dataframe thead th {\n",
       "        text-align: right;\n",
       "    }\n",
       "</style>\n",
       "<table border=\"1\" class=\"dataframe\">\n",
       "  <thead>\n",
       "    <tr style=\"text-align: right;\">\n",
       "      <th></th>\n",
       "      <th>Game_Date</th>\n",
       "      <th>Team_Name</th>\n",
       "      <th>Home</th>\n",
       "      <th>Opponent</th>\n",
       "      <th>Points</th>\n",
       "      <th>Pct_of_Bets</th>\n",
       "      <th>Opening_Spread</th>\n",
       "      <th>Opening_Odds</th>\n",
       "      <th>Betmgm</th>\n",
       "      <th>Betmgm_Odds</th>\n",
       "      <th>...</th>\n",
       "      <th>Fanduel_Odds</th>\n",
       "      <th>Fanduel_Odds</th>\n",
       "      <th>Caesars_Odds</th>\n",
       "      <th>Caesars_Odds</th>\n",
       "      <th>Pointsbet_Odds</th>\n",
       "      <th>Pointsbet_Odds</th>\n",
       "      <th>Wynn_Odds</th>\n",
       "      <th>Wynn_Odds</th>\n",
       "      <th>Betrivers_Odds</th>\n",
       "      <th>Betrivers_Odds</th>\n",
       "    </tr>\n",
       "  </thead>\n",
       "  <tbody>\n",
       "  </tbody>\n",
       "</table>\n",
       "<p>0 rows × 22 columns</p>\n",
       "</div>"
      ],
      "text/plain": [
       "Empty DataFrame\n",
       "Columns: [Game_Date, Team_Name, Home, Opponent, Points, Pct_of_Bets, Opening_Spread, Opening_Odds, Betmgm, Betmgm_Odds, Draft_Kings_Odds, Draft_Kings_Odds, Fanduel_Odds, Fanduel_Odds, Caesars_Odds, Caesars_Odds, Pointsbet_Odds, Pointsbet_Odds, Wynn_Odds, Wynn_Odds, Betrivers_Odds, Betrivers_Odds]\n",
       "Index: []\n",
       "\n",
       "[0 rows x 22 columns]"
      ]
     },
     "execution_count": 29,
     "metadata": {},
     "output_type": "execute_result"
    }
   ],
   "source": [
    "betting_df = df_1.merge(df_2, left_index=True, right_index=True)\n",
    "betting_df"
   ]
  },
  {
   "cell_type": "code",
   "execution_count": 35,
   "id": "9ea493b6",
   "metadata": {},
   "outputs": [
    {
     "name": "stdout",
     "output_type": "stream",
     "text": [
      "none\n"
     ]
    }
   ],
   "source": [
    "if betting_df.shape[0] == 0:\n",
    "    print('none')\n",
    "else:\n",
    "    print('not none')"
   ]
  },
  {
   "cell_type": "code",
   "execution_count": 34,
   "id": "cd68b75e",
   "metadata": {},
   "outputs": [
    {
     "data": {
      "text/plain": [
       "0"
      ]
     },
     "execution_count": 34,
     "metadata": {},
     "output_type": "execute_result"
    }
   ],
   "source": [
    "betting_df.shape[0]"
   ]
  },
  {
   "cell_type": "code",
   "execution_count": null,
   "id": "a3a8cd06",
   "metadata": {},
   "outputs": [],
   "source": []
  }
 ],
 "metadata": {
  "kernelspec": {
   "display_name": "Python 3 (ipykernel)",
   "language": "python",
   "name": "python3"
  },
  "language_info": {
   "codemirror_mode": {
    "name": "ipython",
    "version": 3
   },
   "file_extension": ".py",
   "mimetype": "text/x-python",
   "name": "python",
   "nbconvert_exporter": "python",
   "pygments_lexer": "ipython3",
   "version": "3.10.6"
  },
  "toc": {
   "base_numbering": 1,
   "nav_menu": {},
   "number_sections": true,
   "sideBar": true,
   "skip_h1_title": false,
   "title_cell": "Table of Contents",
   "title_sidebar": "Contents",
   "toc_cell": false,
   "toc_position": {},
   "toc_section_display": true,
   "toc_window_display": false
  }
 },
 "nbformat": 4,
 "nbformat_minor": 5
}
